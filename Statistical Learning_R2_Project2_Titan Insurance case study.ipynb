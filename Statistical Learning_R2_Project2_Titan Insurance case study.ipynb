{
 "cells": [
  {
   "cell_type": "code",
   "execution_count": 10,
   "metadata": {},
   "outputs": [
    {
     "data": {
      "text/html": [
       "<div>\n",
       "<style scoped>\n",
       "    .dataframe tbody tr th:only-of-type {\n",
       "        vertical-align: middle;\n",
       "    }\n",
       "\n",
       "    .dataframe tbody tr th {\n",
       "        vertical-align: top;\n",
       "    }\n",
       "\n",
       "    .dataframe thead th {\n",
       "        text-align: right;\n",
       "    }\n",
       "</style>\n",
       "<table border=\"1\" class=\"dataframe\">\n",
       "  <thead>\n",
       "    <tr style=\"text-align: right;\">\n",
       "      <th></th>\n",
       "      <th>SALESPERSON</th>\n",
       "      <th>Old Scheme (in thousands)</th>\n",
       "      <th>New Scheme (in thousands)</th>\n",
       "    </tr>\n",
       "  </thead>\n",
       "  <tbody>\n",
       "    <tr>\n",
       "      <th>0</th>\n",
       "      <td>1</td>\n",
       "      <td>57</td>\n",
       "      <td>62</td>\n",
       "    </tr>\n",
       "    <tr>\n",
       "      <th>1</th>\n",
       "      <td>2</td>\n",
       "      <td>103</td>\n",
       "      <td>122</td>\n",
       "    </tr>\n",
       "    <tr>\n",
       "      <th>2</th>\n",
       "      <td>3</td>\n",
       "      <td>59</td>\n",
       "      <td>54</td>\n",
       "    </tr>\n",
       "    <tr>\n",
       "      <th>3</th>\n",
       "      <td>4</td>\n",
       "      <td>75</td>\n",
       "      <td>82</td>\n",
       "    </tr>\n",
       "    <tr>\n",
       "      <th>4</th>\n",
       "      <td>5</td>\n",
       "      <td>84</td>\n",
       "      <td>84</td>\n",
       "    </tr>\n",
       "  </tbody>\n",
       "</table>\n",
       "</div>"
      ],
      "text/plain": [
       "   SALESPERSON  Old Scheme (in thousands)  New Scheme (in thousands)\n",
       "0            1                         57                         62\n",
       "1            2                        103                        122\n",
       "2            3                         59                         54\n",
       "3            4                         75                         82\n",
       "4            5                         84                         84"
      ]
     },
     "execution_count": 10,
     "metadata": {},
     "output_type": "execute_result"
    }
   ],
   "source": [
    "import pandas as pd\n",
    "import numpy as np\n",
    "import matplotlib.pyplot as plt\n",
    "import seaborn as sns\n",
    "import os\n",
    "%matplotlib inline\n",
    "\n",
    "sales = pd.read_csv(\"sales.csv\")\n",
    "sales.head()\n"
   ]
  },
  {
   "cell_type": "code",
   "execution_count": null,
   "metadata": {},
   "outputs": [],
   "source": [
    "#Question 1\n",
    "#Find the mean of old scheme and new scheme column."
   ]
  },
  {
   "cell_type": "code",
   "execution_count": 17,
   "metadata": {},
   "outputs": [
    {
     "data": {
      "text/plain": [
       "68.03333333333333"
      ]
     },
     "execution_count": 17,
     "metadata": {},
     "output_type": "execute_result"
    }
   ],
   "source": [
    "sales[\"Old Scheme (in thousands)\"].mean()\n"
   ]
  },
  {
   "cell_type": "code",
   "execution_count": 18,
   "metadata": {},
   "outputs": [
    {
     "data": {
      "text/plain": [
       "72.03333333333333"
      ]
     },
     "execution_count": 18,
     "metadata": {},
     "output_type": "execute_result"
    }
   ],
   "source": [
    "sales[\"New Scheme (in thousands)\"].mean()"
   ]
  },
  {
   "cell_type": "code",
   "execution_count": null,
   "metadata": {},
   "outputs": [],
   "source": [
    "#Question 2\n",
    "#Use the five percent significance test over the data to determine the p value to check new scheme has significantly raised outputs?\n",
    "\n",
    "#Null Hypothesis : New scheme does not have significantly raised outputs\n",
    "\n",
    "#Alternate Hypothesis : New scheme has significantly raised outputs\n"
   ]
  },
  {
   "cell_type": "code",
   "execution_count": 19,
   "metadata": {},
   "outputs": [
    {
     "data": {
      "text/plain": [
       "Ttest_relResult(statistic=-1.5559143823544377, pvalue=0.13057553961337662)"
      ]
     },
     "execution_count": 19,
     "metadata": {},
     "output_type": "execute_result"
    }
   ],
   "source": [
    "from scipy.stats import ttest_rel\n",
    "two_sample=ttest_rel(sales['Old Scheme (in thousands)'],sales['New Scheme (in thousands)'])\n",
    "two_sample"
   ]
  },
  {
   "cell_type": "code",
   "execution_count": null,
   "metadata": {},
   "outputs": [],
   "source": [
    "#Question 3\n",
    "#What conclusion does the test (p-value) lead to?"
   ]
  },
  {
   "cell_type": "code",
   "execution_count": null,
   "metadata": {},
   "outputs": [],
   "source": [
    "#Answer 3 : p=0.1305/2=0.065 p>0.05 Hence null hypothesis is accepted. New scheme does not have significantly raised outputs"
   ]
  },
  {
   "cell_type": "code",
   "execution_count": null,
   "metadata": {},
   "outputs": [],
   "source": [
    "#Question 4\n",
    "#Suppose it has been calculated that in order for Titan to break even, \n",
    "#the average output must increase by £5000 in the scheme compared to the old scheme. \n",
    "#If this figure is alternative hypothesis, what is:\n",
    "#a) The probability of a type 1 error? (2 points)\n",
    "#b) What is the p- value of the hypothesis test if we test for a difference of $5000? (8 points)\n",
    "#c) Power of the test (5 points)"
   ]
  },
  {
   "cell_type": "code",
   "execution_count": null,
   "metadata": {},
   "outputs": [],
   "source": [
    "#Null Hypothesis : New scheme sales has avg 5k less than old scheme sales \n",
    "\n",
    "#Alternate Hypothesis : New scheme sales has avg 5k more than old scheme sales \n",
    "\n",
    "# a) probability of a type 1 error is 5%, if alpha is less tha 5% then reject Null hypothesis (typw 1 error)\n",
    "# b) Null Hyp : mean1-mean2=5k\n",
    "#    Alt Hyp : mean1-mean2^=5k"
   ]
  },
  {
   "cell_type": "code",
   "execution_count": 27,
   "metadata": {},
   "outputs": [
    {
     "data": {
      "text/plain": [
       "Ttest_indResult(statistic=-0.6937067608923764, pvalue=0.4907066557404972)"
      ]
     },
     "execution_count": 27,
     "metadata": {},
     "output_type": "execute_result"
    }
   ],
   "source": [
    "from scipy import stats\n",
    "\n",
    "stats.ttest_ind(sales['Old Scheme (in thousands)'], sales['New Scheme (in thousands)'], equal_var = False)"
   ]
  },
  {
   "cell_type": "code",
   "execution_count": null,
   "metadata": {},
   "outputs": [],
   "source": [
    "# P value is > 5% so do not reject Null Hypothesis and difference between sales mean = 5K"
   ]
  },
  {
   "cell_type": "code",
   "execution_count": 31,
   "metadata": {},
   "outputs": [
    {
     "data": {
      "text/plain": [
       "0.16610169779030542"
      ]
     },
     "execution_count": 31,
     "metadata": {},
     "output_type": "execute_result"
    }
   ],
   "source": [
    "# Answer c : Power of ttest\n",
    "import numpy as np\n",
    "import pandas as pd\n",
    "from scipy.stats import ttest_1samp, ttest_ind, mannwhitneyu, levene, shapiro,bartlett\n",
    "from statsmodels.stats.power import ttest_power\n",
    "import matplotlib.pyplot as plt\n",
    "%matplotlib inline\n",
    "g1=sales['Old Scheme (in thousands)']\n",
    "g2=sales['New Scheme (in thousands)']\n",
    "n1=len(g1)\n",
    "n2=len(g2)\n",
    "d=(np.mean(g1) - np.mean(g2)) / np.sqrt(((n1-1)*np.var(g1)+(n2-1)*np.var(g2)) / n1+n2-2)\n",
    "ttest_power(d, nobs=n1+n2, alpha=0.05, alternative='two-sided')"
   ]
  }
 ],
 "metadata": {
  "kernelspec": {
   "display_name": "Python 3",
   "language": "python",
   "name": "python3"
  },
  "language_info": {
   "codemirror_mode": {
    "name": "ipython",
    "version": 3
   },
   "file_extension": ".py",
   "mimetype": "text/x-python",
   "name": "python",
   "nbconvert_exporter": "python",
   "pygments_lexer": "ipython3",
   "version": "3.7.0"
  }
 },
 "nbformat": 4,
 "nbformat_minor": 2
}
