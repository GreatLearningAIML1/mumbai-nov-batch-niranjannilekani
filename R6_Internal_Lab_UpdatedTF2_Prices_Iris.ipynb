{
  "nbformat": 4,
  "nbformat_minor": 0,
  "metadata": {
    "colab": {
      "name": "Copy of R6_Internal_Lab_UpdatedTF2_Prices_Iris.ipynb",
      "version": "0.3.2",
      "provenance": [],
      "collapsed_sections": [],
      "toc_visible": true
    },
    "language_info": {
      "codemirror_mode": {
        "name": "ipython",
        "version": 3
      },
      "file_extension": ".py",
      "mimetype": "text/x-python",
      "name": "python",
      "nbconvert_exporter": "python",
      "pygments_lexer": "ipython3",
      "version": "3.7.0"
    },
    "kernelspec": {
      "display_name": "Python 3",
      "language": "python",
      "name": "python3"
    }
  },
  "cells": [
    {
      "metadata": {
        "colab_type": "text",
        "id": "84Q8JfvaeZZ6"
      },
      "cell_type": "markdown",
      "source": [
        "## Linear Classifier in TensorFlow \n",
        "Using Low Level API in Eager Execution mode"
      ]
    },
    {
      "metadata": {
        "id": "drXZ2XJbBMGn",
        "colab_type": "code",
        "outputId": "2c9d8171-e92b-4376-84c8-1fbe62bff663",
        "colab": {}
      },
      "cell_type": "code",
      "source": [
        "python -m ensurepip --default-pip"
      ],
      "execution_count": 0,
      "outputs": [
        {
          "output_type": "error",
          "ename": "SyntaxError",
          "evalue": "invalid syntax (<ipython-input-4-99e4d36e16e3>, line 1)",
          "traceback": [
            "\u001b[1;36m  File \u001b[1;32m\"<ipython-input-4-99e4d36e16e3>\"\u001b[1;36m, line \u001b[1;32m1\u001b[0m\n\u001b[1;33m    python -m ensurepip --default-pip\u001b[0m\n\u001b[1;37m                      ^\u001b[0m\n\u001b[1;31mSyntaxError\u001b[0m\u001b[1;31m:\u001b[0m invalid syntax\n"
          ]
        }
      ]
    },
    {
      "metadata": {
        "id": "x5IoMqIKBMGx",
        "colab_type": "code",
        "outputId": "28823442-ba9f-4546-ab35-2086619f7eef",
        "colab": {}
      },
      "cell_type": "code",
      "source": [
        "!pip install keras"
      ],
      "execution_count": 0,
      "outputs": [
        {
          "output_type": "stream",
          "text": [
            "Requirement already satisfied: keras in c:\\users\\niranjan.nilekani\\appdata\\local\\continuum\\anaconda3\\lib\\site-packages (2.2.4)\n",
            "Requirement already satisfied: six>=1.9.0 in c:\\users\\niranjan.nilekani\\appdata\\local\\continuum\\anaconda3\\lib\\site-packages (from keras) (1.11.0)\n",
            "Requirement already satisfied: scipy>=0.14 in c:\\users\\niranjan.nilekani\\appdata\\local\\continuum\\anaconda3\\lib\\site-packages (from keras) (1.1.0)\n",
            "Requirement already satisfied: numpy>=1.9.1 in c:\\users\\niranjan.nilekani\\appdata\\local\\continuum\\anaconda3\\lib\\site-packages (from keras) (1.15.1)\n",
            "Requirement already satisfied: keras-applications>=1.0.6 in c:\\users\\niranjan.nilekani\\appdata\\local\\continuum\\anaconda3\\lib\\site-packages (from keras) (1.0.7)\n",
            "Requirement already satisfied: keras-preprocessing>=1.0.5 in c:\\users\\niranjan.nilekani\\appdata\\local\\continuum\\anaconda3\\lib\\site-packages (from keras) (1.0.9)\n",
            "Requirement already satisfied: h5py in c:\\users\\niranjan.nilekani\\appdata\\local\\continuum\\anaconda3\\lib\\site-packages (from keras) (2.8.0)\n",
            "Requirement already satisfied: pyyaml in c:\\users\\niranjan.nilekani\\appdata\\local\\continuum\\anaconda3\\lib\\site-packages (from keras) (3.13)\n"
          ],
          "name": "stdout"
        },
        {
          "output_type": "stream",
          "text": [
            "twisted 18.7.0 requires PyHamcrest>=1.9.0, which is not installed.\n",
            "You are using pip version 10.0.1, however version 19.0.3 is available.\n",
            "You should consider upgrading via the 'python -m pip install --upgrade pip' command.\n"
          ],
          "name": "stderr"
        }
      ]
    },
    {
      "metadata": {
        "colab_type": "text",
        "id": "sb7Epo0VOB58"
      },
      "cell_type": "markdown",
      "source": [
        "### Load tensorflow"
      ]
    },
    {
      "metadata": {
        "colab_type": "code",
        "id": "fHpCNRv1OB5-",
        "colab": {}
      },
      "cell_type": "code",
      "source": [
        "import tensorflow as tf"
      ],
      "execution_count": 0,
      "outputs": []
    },
    {
      "metadata": {
        "colab_type": "code",
        "id": "Mjtb-EMcm5K0",
        "colab": {}
      },
      "cell_type": "code",
      "source": [
        "#Enable Eager Execution if using tensflow version < 2.0\n",
        "#From tensorflow v2.0 onwards, Eager Execution will be enabled by default\n"
      ],
      "execution_count": 0,
      "outputs": []
    },
    {
      "metadata": {
        "colab_type": "text",
        "id": "DxJDmJqqOB6K",
        "slideshow": {
          "slide_type": "slide"
        }
      },
      "cell_type": "markdown",
      "source": [
        "### Collect Data"
      ]
    },
    {
      "metadata": {
        "colab_type": "code",
        "id": "FhllFLyKOB6N",
        "outputId": "4f285962-f742-4890-a2a6-0e6757190a8e",
        "colab": {
          "base_uri": "https://localhost:8080/",
          "height": 122
        }
      },
      "cell_type": "code",
      "source": [
        "from google.colab import drive\n",
        "drive.mount('/gdrive')"
      ],
      "execution_count": 0,
      "outputs": [
        {
          "output_type": "stream",
          "text": [
            "Go to this URL in a browser: https://accounts.google.com/o/oauth2/auth?client_id=947318989803-6bn6qk8qdgf4n4g3pfee6491hc0brc4i.apps.googleusercontent.com&redirect_uri=urn%3Aietf%3Awg%3Aoauth%3A2.0%3Aoob&scope=email%20https%3A%2F%2Fwww.googleapis.com%2Fauth%2Fdocs.test%20https%3A%2F%2Fwww.googleapis.com%2Fauth%2Fdrive%20https%3A%2F%2Fwww.googleapis.com%2Fauth%2Fdrive.photos.readonly%20https%3A%2F%2Fwww.googleapis.com%2Fauth%2Fpeopleapi.readonly&response_type=code\n",
            "\n",
            "Enter your authorization code:\n",
            "··········\n",
            "Mounted at /gdrive\n"
          ],
          "name": "stdout"
        }
      ]
    },
    {
      "metadata": {
        "colab_type": "code",
        "id": "KiObW4V4SIOz",
        "colab": {}
      },
      "cell_type": "code",
      "source": [
        "import pandas as pd"
      ],
      "execution_count": 0,
      "outputs": []
    },
    {
      "metadata": {
        "colab_type": "code",
        "id": "B4yQKMiJOB6R",
        "colab": {}
      },
      "cell_type": "code",
      "source": [
        "data = pd.read_csv('/gdrive/My Drive/Colab Notebooks/prices.csv')"
      ],
      "execution_count": 0,
      "outputs": []
    },
    {
      "metadata": {
        "colab_type": "text",
        "id": "fgkX6SEqOB6W"
      },
      "cell_type": "markdown",
      "source": [
        "### Check all columns in the dataset"
      ]
    },
    {
      "metadata": {
        "colab_type": "code",
        "id": "7K8pWsNQOB6X",
        "outputId": "d1a68754-a56a-49d4-ebb9-7b2400ce8c7d",
        "colab": {
          "base_uri": "https://localhost:8080/",
          "height": 153
        }
      },
      "cell_type": "code",
      "source": [
        "data.dtypes"
      ],
      "execution_count": 0,
      "outputs": [
        {
          "output_type": "execute_result",
          "data": {
            "text/plain": [
              "date       object\n",
              "symbol     object\n",
              "open      float64\n",
              "close     float64\n",
              "low       float64\n",
              "high      float64\n",
              "volume    float64\n",
              "dtype: object"
            ]
          },
          "metadata": {
            "tags": []
          },
          "execution_count": 8
        }
      ]
    },
    {
      "metadata": {
        "colab_type": "text",
        "id": "7dU6X7MpOB6c"
      },
      "cell_type": "markdown",
      "source": [
        "### Drop columns `date` and  `symbol`"
      ]
    },
    {
      "metadata": {
        "colab_type": "code",
        "id": "lh_6spSKOB6e",
        "colab": {}
      },
      "cell_type": "code",
      "source": [
        "data = data.drop(columns=\"date\") \n",
        "data = data.drop(columns=\"symbol\") "
      ],
      "execution_count": 0,
      "outputs": []
    },
    {
      "metadata": {
        "colab_type": "code",
        "id": "xlwbUgTwOB6i",
        "outputId": "98f6f6ba-3a38-480c-8b20-171e9f8173a7",
        "colab": {
          "base_uri": "https://localhost:8080/",
          "height": 204
        }
      },
      "cell_type": "code",
      "source": [
        "data.head()"
      ],
      "execution_count": 0,
      "outputs": [
        {
          "output_type": "execute_result",
          "data": {
            "text/html": [
              "<div>\n",
              "<style scoped>\n",
              "    .dataframe tbody tr th:only-of-type {\n",
              "        vertical-align: middle;\n",
              "    }\n",
              "\n",
              "    .dataframe tbody tr th {\n",
              "        vertical-align: top;\n",
              "    }\n",
              "\n",
              "    .dataframe thead th {\n",
              "        text-align: right;\n",
              "    }\n",
              "</style>\n",
              "<table border=\"1\" class=\"dataframe\">\n",
              "  <thead>\n",
              "    <tr style=\"text-align: right;\">\n",
              "      <th></th>\n",
              "      <th>open</th>\n",
              "      <th>close</th>\n",
              "      <th>low</th>\n",
              "      <th>high</th>\n",
              "      <th>volume</th>\n",
              "    </tr>\n",
              "  </thead>\n",
              "  <tbody>\n",
              "    <tr>\n",
              "      <th>0</th>\n",
              "      <td>123.430000</td>\n",
              "      <td>125.839996</td>\n",
              "      <td>122.309998</td>\n",
              "      <td>126.250000</td>\n",
              "      <td>2163600.0</td>\n",
              "    </tr>\n",
              "    <tr>\n",
              "      <th>1</th>\n",
              "      <td>125.239998</td>\n",
              "      <td>119.980003</td>\n",
              "      <td>119.940002</td>\n",
              "      <td>125.540001</td>\n",
              "      <td>2386400.0</td>\n",
              "    </tr>\n",
              "    <tr>\n",
              "      <th>2</th>\n",
              "      <td>116.379997</td>\n",
              "      <td>114.949997</td>\n",
              "      <td>114.930000</td>\n",
              "      <td>119.739998</td>\n",
              "      <td>2489500.0</td>\n",
              "    </tr>\n",
              "    <tr>\n",
              "      <th>3</th>\n",
              "      <td>115.480003</td>\n",
              "      <td>116.620003</td>\n",
              "      <td>113.500000</td>\n",
              "      <td>117.440002</td>\n",
              "      <td>2006300.0</td>\n",
              "    </tr>\n",
              "    <tr>\n",
              "      <th>4</th>\n",
              "      <td>117.010002</td>\n",
              "      <td>114.970001</td>\n",
              "      <td>114.089996</td>\n",
              "      <td>117.330002</td>\n",
              "      <td>1408600.0</td>\n",
              "    </tr>\n",
              "  </tbody>\n",
              "</table>\n",
              "</div>"
            ],
            "text/plain": [
              "         open       close         low        high     volume\n",
              "0  123.430000  125.839996  122.309998  126.250000  2163600.0\n",
              "1  125.239998  119.980003  119.940002  125.540001  2386400.0\n",
              "2  116.379997  114.949997  114.930000  119.739998  2489500.0\n",
              "3  115.480003  116.620003  113.500000  117.440002  2006300.0\n",
              "4  117.010002  114.970001  114.089996  117.330002  1408600.0"
            ]
          },
          "metadata": {
            "tags": []
          },
          "execution_count": 10
        }
      ]
    },
    {
      "metadata": {
        "colab_type": "text",
        "id": "3DBv3WWYOB6q"
      },
      "cell_type": "markdown",
      "source": [
        "### Consider only first 1000 rows in the dataset for building feature set and target set\n",
        "Target 'Volume' has very high values. Divide 'Volume' by 1000,000"
      ]
    },
    {
      "metadata": {
        "colab_type": "code",
        "id": "Z_hG9rGBOB6s",
        "outputId": "89abd492-ce8c-48de-fc0e-9ac53b671d16",
        "colab": {
          "base_uri": "https://localhost:8080/",
          "height": 1969
        }
      },
      "cell_type": "code",
      "source": [
        "data['volume_trans'] = data['volume']/1000000\n",
        "data[:1000]"
      ],
      "execution_count": 0,
      "outputs": [
        {
          "output_type": "execute_result",
          "data": {
            "text/html": [
              "<div>\n",
              "<style scoped>\n",
              "    .dataframe tbody tr th:only-of-type {\n",
              "        vertical-align: middle;\n",
              "    }\n",
              "\n",
              "    .dataframe tbody tr th {\n",
              "        vertical-align: top;\n",
              "    }\n",
              "\n",
              "    .dataframe thead th {\n",
              "        text-align: right;\n",
              "    }\n",
              "</style>\n",
              "<table border=\"1\" class=\"dataframe\">\n",
              "  <thead>\n",
              "    <tr style=\"text-align: right;\">\n",
              "      <th></th>\n",
              "      <th>open</th>\n",
              "      <th>close</th>\n",
              "      <th>low</th>\n",
              "      <th>high</th>\n",
              "      <th>volume</th>\n",
              "      <th>volume_trans</th>\n",
              "    </tr>\n",
              "  </thead>\n",
              "  <tbody>\n",
              "    <tr>\n",
              "      <th>0</th>\n",
              "      <td>123.430000</td>\n",
              "      <td>125.839996</td>\n",
              "      <td>122.309998</td>\n",
              "      <td>126.250000</td>\n",
              "      <td>2163600.0</td>\n",
              "      <td>2.1636</td>\n",
              "    </tr>\n",
              "    <tr>\n",
              "      <th>1</th>\n",
              "      <td>125.239998</td>\n",
              "      <td>119.980003</td>\n",
              "      <td>119.940002</td>\n",
              "      <td>125.540001</td>\n",
              "      <td>2386400.0</td>\n",
              "      <td>2.3864</td>\n",
              "    </tr>\n",
              "    <tr>\n",
              "      <th>2</th>\n",
              "      <td>116.379997</td>\n",
              "      <td>114.949997</td>\n",
              "      <td>114.930000</td>\n",
              "      <td>119.739998</td>\n",
              "      <td>2489500.0</td>\n",
              "      <td>2.4895</td>\n",
              "    </tr>\n",
              "    <tr>\n",
              "      <th>3</th>\n",
              "      <td>115.480003</td>\n",
              "      <td>116.620003</td>\n",
              "      <td>113.500000</td>\n",
              "      <td>117.440002</td>\n",
              "      <td>2006300.0</td>\n",
              "      <td>2.0063</td>\n",
              "    </tr>\n",
              "    <tr>\n",
              "      <th>4</th>\n",
              "      <td>117.010002</td>\n",
              "      <td>114.970001</td>\n",
              "      <td>114.089996</td>\n",
              "      <td>117.330002</td>\n",
              "      <td>1408600.0</td>\n",
              "      <td>1.4086</td>\n",
              "    </tr>\n",
              "    <tr>\n",
              "      <th>5</th>\n",
              "      <td>115.510002</td>\n",
              "      <td>115.550003</td>\n",
              "      <td>114.500000</td>\n",
              "      <td>116.059998</td>\n",
              "      <td>1098000.0</td>\n",
              "      <td>1.0980</td>\n",
              "    </tr>\n",
              "    <tr>\n",
              "      <th>6</th>\n",
              "      <td>116.459999</td>\n",
              "      <td>112.849998</td>\n",
              "      <td>112.589996</td>\n",
              "      <td>117.070000</td>\n",
              "      <td>949600.0</td>\n",
              "      <td>0.9496</td>\n",
              "    </tr>\n",
              "    <tr>\n",
              "      <th>7</th>\n",
              "      <td>113.510002</td>\n",
              "      <td>114.379997</td>\n",
              "      <td>110.050003</td>\n",
              "      <td>115.029999</td>\n",
              "      <td>785300.0</td>\n",
              "      <td>0.7853</td>\n",
              "    </tr>\n",
              "    <tr>\n",
              "      <th>8</th>\n",
              "      <td>113.330002</td>\n",
              "      <td>112.529999</td>\n",
              "      <td>111.919998</td>\n",
              "      <td>114.879997</td>\n",
              "      <td>1093700.0</td>\n",
              "      <td>1.0937</td>\n",
              "    </tr>\n",
              "    <tr>\n",
              "      <th>9</th>\n",
              "      <td>113.660004</td>\n",
              "      <td>110.379997</td>\n",
              "      <td>109.870003</td>\n",
              "      <td>115.870003</td>\n",
              "      <td>1523500.0</td>\n",
              "      <td>1.5235</td>\n",
              "    </tr>\n",
              "    <tr>\n",
              "      <th>10</th>\n",
              "      <td>109.059998</td>\n",
              "      <td>109.300003</td>\n",
              "      <td>108.320000</td>\n",
              "      <td>111.599998</td>\n",
              "      <td>1653900.0</td>\n",
              "      <td>1.6539</td>\n",
              "    </tr>\n",
              "    <tr>\n",
              "      <th>11</th>\n",
              "      <td>109.730003</td>\n",
              "      <td>110.000000</td>\n",
              "      <td>108.320000</td>\n",
              "      <td>110.580002</td>\n",
              "      <td>944300.0</td>\n",
              "      <td>0.9443</td>\n",
              "    </tr>\n",
              "    <tr>\n",
              "      <th>12</th>\n",
              "      <td>111.879997</td>\n",
              "      <td>111.949997</td>\n",
              "      <td>110.190002</td>\n",
              "      <td>112.949997</td>\n",
              "      <td>744900.0</td>\n",
              "      <td>0.7449</td>\n",
              "    </tr>\n",
              "    <tr>\n",
              "      <th>13</th>\n",
              "      <td>111.320000</td>\n",
              "      <td>110.120003</td>\n",
              "      <td>110.000000</td>\n",
              "      <td>114.629997</td>\n",
              "      <td>703800.0</td>\n",
              "      <td>0.7038</td>\n",
              "    </tr>\n",
              "    <tr>\n",
              "      <th>14</th>\n",
              "      <td>110.419998</td>\n",
              "      <td>111.000000</td>\n",
              "      <td>107.300003</td>\n",
              "      <td>111.400002</td>\n",
              "      <td>563100.0</td>\n",
              "      <td>0.5631</td>\n",
              "    </tr>\n",
              "    <tr>\n",
              "      <th>15</th>\n",
              "      <td>110.769997</td>\n",
              "      <td>110.709999</td>\n",
              "      <td>109.019997</td>\n",
              "      <td>112.570000</td>\n",
              "      <td>896100.0</td>\n",
              "      <td>0.8961</td>\n",
              "    </tr>\n",
              "    <tr>\n",
              "      <th>16</th>\n",
              "      <td>110.900002</td>\n",
              "      <td>112.580002</td>\n",
              "      <td>109.900002</td>\n",
              "      <td>112.970001</td>\n",
              "      <td>680400.0</td>\n",
              "      <td>0.6804</td>\n",
              "    </tr>\n",
              "    <tr>\n",
              "      <th>17</th>\n",
              "      <td>113.349998</td>\n",
              "      <td>114.470001</td>\n",
              "      <td>111.669998</td>\n",
              "      <td>114.589996</td>\n",
              "      <td>749900.0</td>\n",
              "      <td>0.7499</td>\n",
              "    </tr>\n",
              "    <tr>\n",
              "      <th>18</th>\n",
              "      <td>114.000000</td>\n",
              "      <td>114.500000</td>\n",
              "      <td>112.900002</td>\n",
              "      <td>114.849998</td>\n",
              "      <td>574200.0</td>\n",
              "      <td>0.5742</td>\n",
              "    </tr>\n",
              "    <tr>\n",
              "      <th>19</th>\n",
              "      <td>113.250000</td>\n",
              "      <td>110.559998</td>\n",
              "      <td>109.750000</td>\n",
              "      <td>113.860001</td>\n",
              "      <td>694800.0</td>\n",
              "      <td>0.6948</td>\n",
              "    </tr>\n",
              "    <tr>\n",
              "      <th>20</th>\n",
              "      <td>113.379997</td>\n",
              "      <td>114.050003</td>\n",
              "      <td>109.639999</td>\n",
              "      <td>114.639999</td>\n",
              "      <td>896300.0</td>\n",
              "      <td>0.8963</td>\n",
              "    </tr>\n",
              "    <tr>\n",
              "      <th>21</th>\n",
              "      <td>114.080002</td>\n",
              "      <td>115.709999</td>\n",
              "      <td>114.080002</td>\n",
              "      <td>116.320000</td>\n",
              "      <td>956300.0</td>\n",
              "      <td>0.9563</td>\n",
              "    </tr>\n",
              "    <tr>\n",
              "      <th>22</th>\n",
              "      <td>115.120003</td>\n",
              "      <td>114.019997</td>\n",
              "      <td>109.709999</td>\n",
              "      <td>116.489998</td>\n",
              "      <td>997100.0</td>\n",
              "      <td>0.9971</td>\n",
              "    </tr>\n",
              "    <tr>\n",
              "      <th>23</th>\n",
              "      <td>113.300003</td>\n",
              "      <td>111.160004</td>\n",
              "      <td>110.459999</td>\n",
              "      <td>113.300003</td>\n",
              "      <td>1200500.0</td>\n",
              "      <td>1.2005</td>\n",
              "    </tr>\n",
              "    <tr>\n",
              "      <th>24</th>\n",
              "      <td>111.169998</td>\n",
              "      <td>110.650002</td>\n",
              "      <td>109.639999</td>\n",
              "      <td>112.110001</td>\n",
              "      <td>1725200.0</td>\n",
              "      <td>1.7252</td>\n",
              "    </tr>\n",
              "    <tr>\n",
              "      <th>25</th>\n",
              "      <td>106.730003</td>\n",
              "      <td>107.519997</td>\n",
              "      <td>106.360001</td>\n",
              "      <td>112.110001</td>\n",
              "      <td>1946000.0</td>\n",
              "      <td>1.9460</td>\n",
              "    </tr>\n",
              "    <tr>\n",
              "      <th>26</th>\n",
              "      <td>105.629997</td>\n",
              "      <td>107.129997</td>\n",
              "      <td>104.110001</td>\n",
              "      <td>109.260002</td>\n",
              "      <td>1319500.0</td>\n",
              "      <td>1.3195</td>\n",
              "    </tr>\n",
              "    <tr>\n",
              "      <th>27</th>\n",
              "      <td>108.559998</td>\n",
              "      <td>107.839996</td>\n",
              "      <td>107.070000</td>\n",
              "      <td>109.430000</td>\n",
              "      <td>922400.0</td>\n",
              "      <td>0.9224</td>\n",
              "    </tr>\n",
              "    <tr>\n",
              "      <th>28</th>\n",
              "      <td>109.110001</td>\n",
              "      <td>110.769997</td>\n",
              "      <td>107.010002</td>\n",
              "      <td>111.300003</td>\n",
              "      <td>1185100.0</td>\n",
              "      <td>1.1851</td>\n",
              "    </tr>\n",
              "    <tr>\n",
              "      <th>29</th>\n",
              "      <td>110.830002</td>\n",
              "      <td>111.239998</td>\n",
              "      <td>107.970001</td>\n",
              "      <td>112.110001</td>\n",
              "      <td>921500.0</td>\n",
              "      <td>0.9215</td>\n",
              "    </tr>\n",
              "    <tr>\n",
              "      <th>...</th>\n",
              "      <td>...</td>\n",
              "      <td>...</td>\n",
              "      <td>...</td>\n",
              "      <td>...</td>\n",
              "      <td>...</td>\n",
              "      <td>...</td>\n",
              "    </tr>\n",
              "    <tr>\n",
              "      <th>970</th>\n",
              "      <td>19.240000</td>\n",
              "      <td>18.680000</td>\n",
              "      <td>18.530001</td>\n",
              "      <td>19.430000</td>\n",
              "      <td>9097500.0</td>\n",
              "      <td>9.0975</td>\n",
              "    </tr>\n",
              "    <tr>\n",
              "      <th>971</th>\n",
              "      <td>20.520000</td>\n",
              "      <td>20.290001</td>\n",
              "      <td>19.709999</td>\n",
              "      <td>20.549999</td>\n",
              "      <td>2242100.0</td>\n",
              "      <td>2.2421</td>\n",
              "    </tr>\n",
              "    <tr>\n",
              "      <th>972</th>\n",
              "      <td>12.950000</td>\n",
              "      <td>13.550000</td>\n",
              "      <td>12.720000</td>\n",
              "      <td>13.600000</td>\n",
              "      <td>6205100.0</td>\n",
              "      <td>6.2051</td>\n",
              "    </tr>\n",
              "    <tr>\n",
              "      <th>973</th>\n",
              "      <td>76.059998</td>\n",
              "      <td>75.440002</td>\n",
              "      <td>75.349998</td>\n",
              "      <td>76.370003</td>\n",
              "      <td>864600.0</td>\n",
              "      <td>0.8646</td>\n",
              "    </tr>\n",
              "    <tr>\n",
              "      <th>974</th>\n",
              "      <td>19.620001</td>\n",
              "      <td>19.830000</td>\n",
              "      <td>19.480000</td>\n",
              "      <td>19.830000</td>\n",
              "      <td>709200.0</td>\n",
              "      <td>0.7092</td>\n",
              "    </tr>\n",
              "    <tr>\n",
              "      <th>975</th>\n",
              "      <td>88.000000</td>\n",
              "      <td>87.370003</td>\n",
              "      <td>87.139999</td>\n",
              "      <td>88.239998</td>\n",
              "      <td>1129600.0</td>\n",
              "      <td>1.1296</td>\n",
              "    </tr>\n",
              "    <tr>\n",
              "      <th>976</th>\n",
              "      <td>31.010000</td>\n",
              "      <td>30.959999</td>\n",
              "      <td>30.700001</td>\n",
              "      <td>31.120001</td>\n",
              "      <td>3449300.0</td>\n",
              "      <td>3.4493</td>\n",
              "    </tr>\n",
              "    <tr>\n",
              "      <th>977</th>\n",
              "      <td>35.900002</td>\n",
              "      <td>35.189999</td>\n",
              "      <td>34.930000</td>\n",
              "      <td>35.910000</td>\n",
              "      <td>7517100.0</td>\n",
              "      <td>7.5171</td>\n",
              "    </tr>\n",
              "    <tr>\n",
              "      <th>978</th>\n",
              "      <td>76.620003</td>\n",
              "      <td>77.650002</td>\n",
              "      <td>76.550003</td>\n",
              "      <td>77.790001</td>\n",
              "      <td>2356500.0</td>\n",
              "      <td>2.3565</td>\n",
              "    </tr>\n",
              "    <tr>\n",
              "      <th>979</th>\n",
              "      <td>25.799999</td>\n",
              "      <td>26.420000</td>\n",
              "      <td>25.719999</td>\n",
              "      <td>26.610001</td>\n",
              "      <td>4839200.0</td>\n",
              "      <td>4.8392</td>\n",
              "    </tr>\n",
              "    <tr>\n",
              "      <th>980</th>\n",
              "      <td>30.370001</td>\n",
              "      <td>31.059999</td>\n",
              "      <td>30.309999</td>\n",
              "      <td>31.110001</td>\n",
              "      <td>3684600.0</td>\n",
              "      <td>3.6846</td>\n",
              "    </tr>\n",
              "    <tr>\n",
              "      <th>981</th>\n",
              "      <td>23.120001</td>\n",
              "      <td>22.920000</td>\n",
              "      <td>22.740000</td>\n",
              "      <td>23.129999</td>\n",
              "      <td>14428400.0</td>\n",
              "      <td>14.4284</td>\n",
              "    </tr>\n",
              "    <tr>\n",
              "      <th>982</th>\n",
              "      <td>39.790001</td>\n",
              "      <td>39.610001</td>\n",
              "      <td>39.090000</td>\n",
              "      <td>39.799999</td>\n",
              "      <td>1463300.0</td>\n",
              "      <td>1.4633</td>\n",
              "    </tr>\n",
              "    <tr>\n",
              "      <th>983</th>\n",
              "      <td>24.669997</td>\n",
              "      <td>25.140004</td>\n",
              "      <td>24.669997</td>\n",
              "      <td>25.160000</td>\n",
              "      <td>749600.0</td>\n",
              "      <td>0.7496</td>\n",
              "    </tr>\n",
              "    <tr>\n",
              "      <th>984</th>\n",
              "      <td>11.250000</td>\n",
              "      <td>11.770000</td>\n",
              "      <td>11.200000</td>\n",
              "      <td>11.790000</td>\n",
              "      <td>13355100.0</td>\n",
              "      <td>13.3551</td>\n",
              "    </tr>\n",
              "    <tr>\n",
              "      <th>985</th>\n",
              "      <td>1.630000</td>\n",
              "      <td>1.650000</td>\n",
              "      <td>1.600000</td>\n",
              "      <td>1.660000</td>\n",
              "      <td>11538300.0</td>\n",
              "      <td>11.5383</td>\n",
              "    </tr>\n",
              "    <tr>\n",
              "      <th>986</th>\n",
              "      <td>17.020000</td>\n",
              "      <td>16.860001</td>\n",
              "      <td>16.790001</td>\n",
              "      <td>17.209999</td>\n",
              "      <td>9931300.0</td>\n",
              "      <td>9.9313</td>\n",
              "    </tr>\n",
              "    <tr>\n",
              "      <th>987</th>\n",
              "      <td>257.840004</td>\n",
              "      <td>256.079998</td>\n",
              "      <td>253.050003</td>\n",
              "      <td>257.959995</td>\n",
              "      <td>12906000.0</td>\n",
              "      <td>12.9060</td>\n",
              "    </tr>\n",
              "    <tr>\n",
              "      <th>988</th>\n",
              "      <td>48.099998</td>\n",
              "      <td>48.150002</td>\n",
              "      <td>47.700001</td>\n",
              "      <td>48.369999</td>\n",
              "      <td>369900.0</td>\n",
              "      <td>0.3699</td>\n",
              "    </tr>\n",
              "    <tr>\n",
              "      <th>989</th>\n",
              "      <td>34.529999</td>\n",
              "      <td>34.430000</td>\n",
              "      <td>34.080002</td>\n",
              "      <td>34.750000</td>\n",
              "      <td>2701000.0</td>\n",
              "      <td>2.7010</td>\n",
              "    </tr>\n",
              "    <tr>\n",
              "      <th>990</th>\n",
              "      <td>27.570000</td>\n",
              "      <td>27.790001</td>\n",
              "      <td>27.370000</td>\n",
              "      <td>27.919999</td>\n",
              "      <td>2627800.0</td>\n",
              "      <td>2.6278</td>\n",
              "    </tr>\n",
              "    <tr>\n",
              "      <th>991</th>\n",
              "      <td>14.200000</td>\n",
              "      <td>14.420000</td>\n",
              "      <td>14.120000</td>\n",
              "      <td>14.430000</td>\n",
              "      <td>3258700.0</td>\n",
              "      <td>3.2587</td>\n",
              "    </tr>\n",
              "    <tr>\n",
              "      <th>992</th>\n",
              "      <td>19.900000</td>\n",
              "      <td>19.580000</td>\n",
              "      <td>19.330000</td>\n",
              "      <td>20.059999</td>\n",
              "      <td>5206100.0</td>\n",
              "      <td>5.2061</td>\n",
              "    </tr>\n",
              "    <tr>\n",
              "      <th>993</th>\n",
              "      <td>62.660000</td>\n",
              "      <td>62.299999</td>\n",
              "      <td>62.189999</td>\n",
              "      <td>62.750000</td>\n",
              "      <td>7099000.0</td>\n",
              "      <td>7.0990</td>\n",
              "    </tr>\n",
              "    <tr>\n",
              "      <th>994</th>\n",
              "      <td>29.219999</td>\n",
              "      <td>28.719999</td>\n",
              "      <td>28.629999</td>\n",
              "      <td>29.309999</td>\n",
              "      <td>7795500.0</td>\n",
              "      <td>7.7955</td>\n",
              "    </tr>\n",
              "    <tr>\n",
              "      <th>995</th>\n",
              "      <td>63.310001</td>\n",
              "      <td>63.590000</td>\n",
              "      <td>63.240002</td>\n",
              "      <td>63.639999</td>\n",
              "      <td>2133200.0</td>\n",
              "      <td>2.1332</td>\n",
              "    </tr>\n",
              "    <tr>\n",
              "      <th>996</th>\n",
              "      <td>27.160000</td>\n",
              "      <td>26.990000</td>\n",
              "      <td>26.680000</td>\n",
              "      <td>27.299999</td>\n",
              "      <td>1982400.0</td>\n",
              "      <td>1.9824</td>\n",
              "    </tr>\n",
              "    <tr>\n",
              "      <th>997</th>\n",
              "      <td>28.320000</td>\n",
              "      <td>28.770000</td>\n",
              "      <td>28.010000</td>\n",
              "      <td>28.809999</td>\n",
              "      <td>37152800.0</td>\n",
              "      <td>37.1528</td>\n",
              "    </tr>\n",
              "    <tr>\n",
              "      <th>998</th>\n",
              "      <td>44.000000</td>\n",
              "      <td>44.799999</td>\n",
              "      <td>43.750000</td>\n",
              "      <td>44.810001</td>\n",
              "      <td>6568600.0</td>\n",
              "      <td>6.5686</td>\n",
              "    </tr>\n",
              "    <tr>\n",
              "      <th>999</th>\n",
              "      <td>36.080002</td>\n",
              "      <td>37.139999</td>\n",
              "      <td>36.009998</td>\n",
              "      <td>37.230000</td>\n",
              "      <td>5604300.0</td>\n",
              "      <td>5.6043</td>\n",
              "    </tr>\n",
              "  </tbody>\n",
              "</table>\n",
              "<p>1000 rows × 6 columns</p>\n",
              "</div>"
            ],
            "text/plain": [
              "           open       close         low        high      volume  volume_trans\n",
              "0    123.430000  125.839996  122.309998  126.250000   2163600.0        2.1636\n",
              "1    125.239998  119.980003  119.940002  125.540001   2386400.0        2.3864\n",
              "2    116.379997  114.949997  114.930000  119.739998   2489500.0        2.4895\n",
              "3    115.480003  116.620003  113.500000  117.440002   2006300.0        2.0063\n",
              "4    117.010002  114.970001  114.089996  117.330002   1408600.0        1.4086\n",
              "5    115.510002  115.550003  114.500000  116.059998   1098000.0        1.0980\n",
              "6    116.459999  112.849998  112.589996  117.070000    949600.0        0.9496\n",
              "7    113.510002  114.379997  110.050003  115.029999    785300.0        0.7853\n",
              "8    113.330002  112.529999  111.919998  114.879997   1093700.0        1.0937\n",
              "9    113.660004  110.379997  109.870003  115.870003   1523500.0        1.5235\n",
              "10   109.059998  109.300003  108.320000  111.599998   1653900.0        1.6539\n",
              "11   109.730003  110.000000  108.320000  110.580002    944300.0        0.9443\n",
              "12   111.879997  111.949997  110.190002  112.949997    744900.0        0.7449\n",
              "13   111.320000  110.120003  110.000000  114.629997    703800.0        0.7038\n",
              "14   110.419998  111.000000  107.300003  111.400002    563100.0        0.5631\n",
              "15   110.769997  110.709999  109.019997  112.570000    896100.0        0.8961\n",
              "16   110.900002  112.580002  109.900002  112.970001    680400.0        0.6804\n",
              "17   113.349998  114.470001  111.669998  114.589996    749900.0        0.7499\n",
              "18   114.000000  114.500000  112.900002  114.849998    574200.0        0.5742\n",
              "19   113.250000  110.559998  109.750000  113.860001    694800.0        0.6948\n",
              "20   113.379997  114.050003  109.639999  114.639999    896300.0        0.8963\n",
              "21   114.080002  115.709999  114.080002  116.320000    956300.0        0.9563\n",
              "22   115.120003  114.019997  109.709999  116.489998    997100.0        0.9971\n",
              "23   113.300003  111.160004  110.459999  113.300003   1200500.0        1.2005\n",
              "24   111.169998  110.650002  109.639999  112.110001   1725200.0        1.7252\n",
              "25   106.730003  107.519997  106.360001  112.110001   1946000.0        1.9460\n",
              "26   105.629997  107.129997  104.110001  109.260002   1319500.0        1.3195\n",
              "27   108.559998  107.839996  107.070000  109.430000    922400.0        0.9224\n",
              "28   109.110001  110.769997  107.010002  111.300003   1185100.0        1.1851\n",
              "29   110.830002  111.239998  107.970001  112.110001    921500.0        0.9215\n",
              "..          ...         ...         ...         ...         ...           ...\n",
              "970   19.240000   18.680000   18.530001   19.430000   9097500.0        9.0975\n",
              "971   20.520000   20.290001   19.709999   20.549999   2242100.0        2.2421\n",
              "972   12.950000   13.550000   12.720000   13.600000   6205100.0        6.2051\n",
              "973   76.059998   75.440002   75.349998   76.370003    864600.0        0.8646\n",
              "974   19.620001   19.830000   19.480000   19.830000    709200.0        0.7092\n",
              "975   88.000000   87.370003   87.139999   88.239998   1129600.0        1.1296\n",
              "976   31.010000   30.959999   30.700001   31.120001   3449300.0        3.4493\n",
              "977   35.900002   35.189999   34.930000   35.910000   7517100.0        7.5171\n",
              "978   76.620003   77.650002   76.550003   77.790001   2356500.0        2.3565\n",
              "979   25.799999   26.420000   25.719999   26.610001   4839200.0        4.8392\n",
              "980   30.370001   31.059999   30.309999   31.110001   3684600.0        3.6846\n",
              "981   23.120001   22.920000   22.740000   23.129999  14428400.0       14.4284\n",
              "982   39.790001   39.610001   39.090000   39.799999   1463300.0        1.4633\n",
              "983   24.669997   25.140004   24.669997   25.160000    749600.0        0.7496\n",
              "984   11.250000   11.770000   11.200000   11.790000  13355100.0       13.3551\n",
              "985    1.630000    1.650000    1.600000    1.660000  11538300.0       11.5383\n",
              "986   17.020000   16.860001   16.790001   17.209999   9931300.0        9.9313\n",
              "987  257.840004  256.079998  253.050003  257.959995  12906000.0       12.9060\n",
              "988   48.099998   48.150002   47.700001   48.369999    369900.0        0.3699\n",
              "989   34.529999   34.430000   34.080002   34.750000   2701000.0        2.7010\n",
              "990   27.570000   27.790001   27.370000   27.919999   2627800.0        2.6278\n",
              "991   14.200000   14.420000   14.120000   14.430000   3258700.0        3.2587\n",
              "992   19.900000   19.580000   19.330000   20.059999   5206100.0        5.2061\n",
              "993   62.660000   62.299999   62.189999   62.750000   7099000.0        7.0990\n",
              "994   29.219999   28.719999   28.629999   29.309999   7795500.0        7.7955\n",
              "995   63.310001   63.590000   63.240002   63.639999   2133200.0        2.1332\n",
              "996   27.160000   26.990000   26.680000   27.299999   1982400.0        1.9824\n",
              "997   28.320000   28.770000   28.010000   28.809999  37152800.0       37.1528\n",
              "998   44.000000   44.799999   43.750000   44.810001   6568600.0        6.5686\n",
              "999   36.080002   37.139999   36.009998   37.230000   5604300.0        5.6043\n",
              "\n",
              "[1000 rows x 6 columns]"
            ]
          },
          "metadata": {
            "tags": []
          },
          "execution_count": 12
        }
      ]
    },
    {
      "metadata": {
        "colab_type": "text",
        "id": "M3UaApqYOB6x"
      },
      "cell_type": "markdown",
      "source": [
        "### Divide the data into train and test sets"
      ]
    },
    {
      "metadata": {
        "colab_type": "code",
        "id": "4LE4U8lTdQJq",
        "colab": {}
      },
      "cell_type": "code",
      "source": [
        "from sklearn.model_selection import train_test_split\n",
        "X = data.drop(\"volume_trans\" , axis=1)\n",
        "y = data.pop(\"volume_trans\")\n",
        "train_set, test_set, train_labels, test_labels = train_test_split(X, y, test_size=.30, random_state=1)"
      ],
      "execution_count": 0,
      "outputs": []
    },
    {
      "metadata": {
        "colab_type": "text",
        "id": "oYK-aUuLbrz2"
      },
      "cell_type": "markdown",
      "source": [
        "#### Convert Training and Test Data to numpy float32 arrays\n"
      ]
    },
    {
      "metadata": {
        "colab_type": "code",
        "id": "Ao-S0tQGcncz",
        "colab": {}
      },
      "cell_type": "code",
      "source": [
        "import numpy as np\n",
        "train_set = np.float32(train_set)\n",
        "test_set = np.float32(test_set)\n",
        "train_labels = np.float32(train_labels)\n",
        "test_labels = np.float32(test_labels)\n"
      ],
      "execution_count": 0,
      "outputs": []
    },
    {
      "metadata": {
        "colab_type": "text",
        "id": "im1ZegbDdKgv"
      },
      "cell_type": "markdown",
      "source": [
        "### Normalize the data\n",
        "You can use Normalizer from sklearn.preprocessing"
      ]
    },
    {
      "metadata": {
        "colab_type": "code",
        "id": "2EkKAy7fOB6y",
        "colab": {}
      },
      "cell_type": "code",
      "source": [
        "from sklearn.preprocessing import Normalizer\n",
        "transformer = Normalizer().fit(train_set)\n",
        "transformer\n",
        "train_transform=transformer.transform(train_set)"
      ],
      "execution_count": 0,
      "outputs": []
    },
    {
      "metadata": {
        "colab_type": "text",
        "id": "v6vE4eYCOB62",
        "slideshow": {
          "slide_type": "slide"
        }
      },
      "cell_type": "markdown",
      "source": [
        "## Building the Model in tensorflow"
      ]
    },
    {
      "metadata": {
        "colab_type": "text",
        "id": "297_qja4OB7A",
        "slideshow": {
          "slide_type": "slide"
        }
      },
      "cell_type": "markdown",
      "source": [
        "1.Define Weights and Bias, use tf.zeros to initialize weights and Bias"
      ]
    },
    {
      "metadata": {
        "colab_type": "code",
        "id": "L205qPeQOB7B",
        "outputId": "99b776d6-1d6e-49ff-d4a0-4b8d139cd3d9",
        "colab": {
          "base_uri": "https://localhost:8080/",
          "height": 88
        }
      },
      "cell_type": "code",
      "source": [
        "W = tf.Variable(tf.zeros(shape=[5,1]), name=\"Weights\")\n",
        "b = tf.Variable(tf.zeros(shape=[1]),name=\"Bias\")"
      ],
      "execution_count": 0,
      "outputs": [
        {
          "output_type": "stream",
          "text": [
            "WARNING:tensorflow:From /usr/local/lib/python3.6/dist-packages/tensorflow/python/framework/op_def_library.py:263: colocate_with (from tensorflow.python.framework.ops) is deprecated and will be removed in a future version.\n",
            "Instructions for updating:\n",
            "Colocations handled automatically by placer.\n"
          ],
          "name": "stdout"
        }
      ]
    },
    {
      "metadata": {
        "colab_type": "text",
        "id": "HgtWA-UIOB7F",
        "slideshow": {
          "slide_type": "slide"
        }
      },
      "cell_type": "markdown",
      "source": [
        "2.Define a function to calculate prediction"
      ]
    },
    {
      "metadata": {
        "colab_type": "code",
        "id": "JveGlx25OB7H",
        "colab": {}
      },
      "cell_type": "code",
      "source": [
        "y = tf.add(tf.matmul(train_transform,W),b,name='output')"
      ],
      "execution_count": 0,
      "outputs": []
    },
    {
      "metadata": {
        "colab_type": "text",
        "id": "TL1hIwf_OB7M",
        "slideshow": {
          "slide_type": "slide"
        }
      },
      "cell_type": "markdown",
      "source": [
        "y_ = tf.placeholder(shape=[None],dtype=tf.float32, name='y-input')3.Loss (Cost) Function [Mean square error]"
      ]
    },
    {
      "metadata": {
        "colab_type": "code",
        "id": "8VSWPiGXOB7P",
        "colab": {}
      },
      "cell_type": "code",
      "source": [
        "x = tf.placeholder(shape=[None,5],dtype=tf.float32, name='x-input')\n",
        "y_ = tf.placeholder(shape=[None],dtype=tf.float32, name='y-input')\n",
        "loss = tf.reduce_mean(tf.square(y-y_),name='Loss')"
      ],
      "execution_count": 0,
      "outputs": []
    },
    {
      "metadata": {
        "colab_type": "text",
        "id": "jzG85FUlOB7U",
        "slideshow": {
          "slide_type": "slide"
        }
      },
      "cell_type": "markdown",
      "source": [
        "4.Function to train the Model\n",
        "\n",
        "1.   Record all the mathematical steps to calculate Loss\n",
        "2.   Calculate Gradients of Loss w.r.t weights and bias\n",
        "3.   Update Weights and Bias based on gradients and learning rate to minimize loss"
      ]
    },
    {
      "metadata": {
        "colab_type": "code",
        "id": "cj802w-3OB7X",
        "colab": {}
      },
      "cell_type": "code",
      "source": [
        "train_op = tf.train.GradientDescentOptimizer(0.03).minimize(loss)"
      ],
      "execution_count": 0,
      "outputs": []
    },
    {
      "metadata": {
        "colab_type": "text",
        "id": "xSypb_u8OB7e",
        "slideshow": {
          "slide_type": "slide"
        }
      },
      "cell_type": "markdown",
      "source": [
        "## Train the model for 100 epochs \n",
        "1. Observe the training loss at every iteration\n",
        "2. Observe Test loss at every 5th iteration"
      ]
    },
    {
      "metadata": {
        "colab_type": "code",
        "id": "DVvgj7eQOB7f",
        "colab": {}
      },
      "cell_type": "code",
      "source": [
        "#Lets start graph Execution\n",
        "sess = tf.Session()\n",
        "\n",
        "# variables need to be initialized before we can use them\n",
        "sess.run(tf.global_variables_initializer())\n",
        "\n",
        "#how many times data need to be shown to model\n",
        "training_epochs = 100\n",
        "\n",
        "for epoch in range(training_epochs):\n",
        "            \n",
        "    #Calculate train_op and loss\n",
        "    _, train_loss = sess.run([train_op,loss],feed_dict={x:train_transform, y_:y})\n",
        "    \n",
        "    if epoch % 10 == 0:\n",
        "        print ('Training loss at step: ', epoch, ' is ', train_loss)"
      ],
      "execution_count": 0,
      "outputs": []
    },
    {
      "metadata": {
        "colab_type": "text",
        "id": "DOL2ncA1OB7q"
      },
      "cell_type": "markdown",
      "source": [
        "### Get the shapes and values of W and b"
      ]
    },
    {
      "metadata": {
        "colab_type": "code",
        "id": "ZGvtyTeuOB7r",
        "colab": {}
      },
      "cell_type": "code",
      "source": [
        ""
      ],
      "execution_count": 0,
      "outputs": []
    },
    {
      "metadata": {
        "colab_type": "code",
        "id": "vhDtOv5UOB7x",
        "colab": {}
      },
      "cell_type": "code",
      "source": [
        ""
      ],
      "execution_count": 0,
      "outputs": []
    },
    {
      "metadata": {
        "colab_type": "text",
        "id": "ERq9GOKKciho"
      },
      "cell_type": "markdown",
      "source": [
        "### Model Prediction on 1st Examples in Test Dataset"
      ]
    },
    {
      "metadata": {
        "colab_type": "code",
        "id": "gKGvUWahcihp",
        "colab": {}
      },
      "cell_type": "code",
      "source": [
        ""
      ],
      "execution_count": 0,
      "outputs": []
    },
    {
      "metadata": {
        "colab_type": "text",
        "id": "YJRBuqXhOB7_"
      },
      "cell_type": "markdown",
      "source": [
        "## Classification using tf.Keras\n",
        "\n",
        "In this exercise, we will build a Deep Neural Network using tf.Keras. We will use Iris Dataset for this exercise."
      ]
    },
    {
      "metadata": {
        "colab_type": "text",
        "id": "O0g6lorycihf"
      },
      "cell_type": "markdown",
      "source": [
        "### Load the given Iris data using pandas (Iris.csv)"
      ]
    },
    {
      "metadata": {
        "colab_type": "code",
        "id": "6xFvb5sRcihg",
        "colab": {}
      },
      "cell_type": "code",
      "source": [
        "from keras.models import Sequential\n",
        "from keras.layers import Dense\n",
        "import numpy\n",
        "iris = pd.read_csv('/gdrive/My Drive/Colab Notebooks/Iris.csv')"
      ],
      "execution_count": 0,
      "outputs": []
    },
    {
      "metadata": {
        "id": "QmuCXvVVegdC",
        "colab_type": "code",
        "outputId": "569f2dd8-eca0-4714-9a89-bc99ec8d9e4f",
        "colab": {
          "base_uri": "https://localhost:8080/",
          "height": 204
        }
      },
      "cell_type": "code",
      "source": [
        "iris.head()"
      ],
      "execution_count": 0,
      "outputs": [
        {
          "output_type": "execute_result",
          "data": {
            "text/html": [
              "<div>\n",
              "<style scoped>\n",
              "    .dataframe tbody tr th:only-of-type {\n",
              "        vertical-align: middle;\n",
              "    }\n",
              "\n",
              "    .dataframe tbody tr th {\n",
              "        vertical-align: top;\n",
              "    }\n",
              "\n",
              "    .dataframe thead th {\n",
              "        text-align: right;\n",
              "    }\n",
              "</style>\n",
              "<table border=\"1\" class=\"dataframe\">\n",
              "  <thead>\n",
              "    <tr style=\"text-align: right;\">\n",
              "      <th></th>\n",
              "      <th>Id</th>\n",
              "      <th>SepalLengthCm</th>\n",
              "      <th>SepalWidthCm</th>\n",
              "      <th>PetalLengthCm</th>\n",
              "      <th>PetalWidthCm</th>\n",
              "      <th>Species</th>\n",
              "    </tr>\n",
              "  </thead>\n",
              "  <tbody>\n",
              "    <tr>\n",
              "      <th>0</th>\n",
              "      <td>1</td>\n",
              "      <td>5.1</td>\n",
              "      <td>3.5</td>\n",
              "      <td>1.4</td>\n",
              "      <td>0.2</td>\n",
              "      <td>Iris-setosa</td>\n",
              "    </tr>\n",
              "    <tr>\n",
              "      <th>1</th>\n",
              "      <td>2</td>\n",
              "      <td>4.9</td>\n",
              "      <td>3.0</td>\n",
              "      <td>1.4</td>\n",
              "      <td>0.2</td>\n",
              "      <td>Iris-setosa</td>\n",
              "    </tr>\n",
              "    <tr>\n",
              "      <th>2</th>\n",
              "      <td>3</td>\n",
              "      <td>4.7</td>\n",
              "      <td>3.2</td>\n",
              "      <td>1.3</td>\n",
              "      <td>0.2</td>\n",
              "      <td>Iris-setosa</td>\n",
              "    </tr>\n",
              "    <tr>\n",
              "      <th>3</th>\n",
              "      <td>4</td>\n",
              "      <td>4.6</td>\n",
              "      <td>3.1</td>\n",
              "      <td>1.5</td>\n",
              "      <td>0.2</td>\n",
              "      <td>Iris-setosa</td>\n",
              "    </tr>\n",
              "    <tr>\n",
              "      <th>4</th>\n",
              "      <td>5</td>\n",
              "      <td>5.0</td>\n",
              "      <td>3.6</td>\n",
              "      <td>1.4</td>\n",
              "      <td>0.2</td>\n",
              "      <td>Iris-setosa</td>\n",
              "    </tr>\n",
              "  </tbody>\n",
              "</table>\n",
              "</div>"
            ],
            "text/plain": [
              "   Id  SepalLengthCm  SepalWidthCm  PetalLengthCm  PetalWidthCm      Species\n",
              "0   1            5.1           3.5            1.4           0.2  Iris-setosa\n",
              "1   2            4.9           3.0            1.4           0.2  Iris-setosa\n",
              "2   3            4.7           3.2            1.3           0.2  Iris-setosa\n",
              "3   4            4.6           3.1            1.5           0.2  Iris-setosa\n",
              "4   5            5.0           3.6            1.4           0.2  Iris-setosa"
            ]
          },
          "metadata": {
            "tags": []
          },
          "execution_count": 67
        }
      ]
    },
    {
      "metadata": {
        "colab_type": "text",
        "id": "SAB--Qdwcihm"
      },
      "cell_type": "markdown",
      "source": [
        "### Target set has different categories. So, Label encode them. And convert into one-hot vectors using get_dummies in pandas."
      ]
    },
    {
      "metadata": {
        "colab_type": "code",
        "id": "IJr5dYnocihm",
        "colab": {}
      },
      "cell_type": "code",
      "source": [
        "categorial_features = ['Species']\n",
        "\n",
        "for categorical_feature in list(iris.columns):\n",
        "    if categorical_feature in categorial_features:\n",
        "        iris[categorical_feature] = iris[categorical_feature].astype('category')\n",
        "        iris_with_dummies = pd.get_dummies(iris, sparse=True)\n",
        "        label_encoder = LabelEncoder()\n",
        "iris_encoded = label_encoder.fit_transform(values)\n"
      ],
      "execution_count": 0,
      "outputs": []
    },
    {
      "metadata": {
        "id": "XXLIelJKf8tm",
        "colab_type": "code",
        "outputId": "3b57a3fc-73d4-448c-9b4f-848f52cd290f",
        "colab": {
          "base_uri": "https://localhost:8080/",
          "height": 34
        }
      },
      "cell_type": "code",
      "source": [
        "import numpy as np \n",
        "import pandas as pd\n",
        "from sklearn import preprocessing \n",
        "iris['Species'].unique() \n",
        "label_encoder = preprocessing.LabelEncoder() \n",
        "  \n",
        "# Encode labels in column 'species'. \n",
        "iris['Species']= label_encoder.fit_transform(iris['Species']) \n",
        "  \n",
        "iris['Species'].unique()\n"
      ],
      "execution_count": 0,
      "outputs": [
        {
          "output_type": "execute_result",
          "data": {
            "text/plain": [
              "array([0, 1, 2])"
            ]
          },
          "metadata": {
            "tags": []
          },
          "execution_count": 68
        }
      ]
    },
    {
      "metadata": {
        "id": "Cb6pDvDIevnT",
        "colab_type": "code",
        "outputId": "81063587-dbfb-45c7-fd11-7ed111a50597",
        "colab": {
          "base_uri": "https://localhost:8080/",
          "height": 204
        }
      },
      "cell_type": "code",
      "source": [
        "iris.head()"
      ],
      "execution_count": 0,
      "outputs": [
        {
          "output_type": "execute_result",
          "data": {
            "text/html": [
              "<div>\n",
              "<style scoped>\n",
              "    .dataframe tbody tr th:only-of-type {\n",
              "        vertical-align: middle;\n",
              "    }\n",
              "\n",
              "    .dataframe tbody tr th {\n",
              "        vertical-align: top;\n",
              "    }\n",
              "\n",
              "    .dataframe thead th {\n",
              "        text-align: right;\n",
              "    }\n",
              "</style>\n",
              "<table border=\"1\" class=\"dataframe\">\n",
              "  <thead>\n",
              "    <tr style=\"text-align: right;\">\n",
              "      <th></th>\n",
              "      <th>Id</th>\n",
              "      <th>SepalLengthCm</th>\n",
              "      <th>SepalWidthCm</th>\n",
              "      <th>PetalLengthCm</th>\n",
              "      <th>PetalWidthCm</th>\n",
              "      <th>Species</th>\n",
              "    </tr>\n",
              "  </thead>\n",
              "  <tbody>\n",
              "    <tr>\n",
              "      <th>0</th>\n",
              "      <td>1</td>\n",
              "      <td>5.1</td>\n",
              "      <td>3.5</td>\n",
              "      <td>1.4</td>\n",
              "      <td>0.2</td>\n",
              "      <td>0</td>\n",
              "    </tr>\n",
              "    <tr>\n",
              "      <th>1</th>\n",
              "      <td>2</td>\n",
              "      <td>4.9</td>\n",
              "      <td>3.0</td>\n",
              "      <td>1.4</td>\n",
              "      <td>0.2</td>\n",
              "      <td>0</td>\n",
              "    </tr>\n",
              "    <tr>\n",
              "      <th>2</th>\n",
              "      <td>3</td>\n",
              "      <td>4.7</td>\n",
              "      <td>3.2</td>\n",
              "      <td>1.3</td>\n",
              "      <td>0.2</td>\n",
              "      <td>0</td>\n",
              "    </tr>\n",
              "    <tr>\n",
              "      <th>3</th>\n",
              "      <td>4</td>\n",
              "      <td>4.6</td>\n",
              "      <td>3.1</td>\n",
              "      <td>1.5</td>\n",
              "      <td>0.2</td>\n",
              "      <td>0</td>\n",
              "    </tr>\n",
              "    <tr>\n",
              "      <th>4</th>\n",
              "      <td>5</td>\n",
              "      <td>5.0</td>\n",
              "      <td>3.6</td>\n",
              "      <td>1.4</td>\n",
              "      <td>0.2</td>\n",
              "      <td>0</td>\n",
              "    </tr>\n",
              "  </tbody>\n",
              "</table>\n",
              "</div>"
            ],
            "text/plain": [
              "   Id  SepalLengthCm  SepalWidthCm  PetalLengthCm  PetalWidthCm  Species\n",
              "0   1            5.1           3.5            1.4           0.2        0\n",
              "1   2            4.9           3.0            1.4           0.2        0\n",
              "2   3            4.7           3.2            1.3           0.2        0\n",
              "3   4            4.6           3.1            1.5           0.2        0\n",
              "4   5            5.0           3.6            1.4           0.2        0"
            ]
          },
          "metadata": {
            "tags": []
          },
          "execution_count": 69
        }
      ]
    },
    {
      "metadata": {
        "colab_type": "text",
        "id": "D95nY5ILcihj"
      },
      "cell_type": "markdown",
      "source": [
        "### Splitting the data into feature set and target set"
      ]
    },
    {
      "metadata": {
        "colab_type": "code",
        "id": "RyMQoLMucihj",
        "colab": {}
      },
      "cell_type": "code",
      "source": [
        "from sklearn.model_selection import train_test_split\n",
        "X = iris.drop(\"Species\" , axis=1)\n",
        "y = iris.pop(\"Species\")"
      ],
      "execution_count": 0,
      "outputs": []
    },
    {
      "metadata": {
        "colab_type": "text",
        "id": "b22qpC5xcihr"
      },
      "cell_type": "markdown",
      "source": [
        "###  Building Model in tf.keras\n",
        "\n",
        "Build a Linear Classifier model  <br>\n",
        "1.  Use Dense Layer  with input shape of 4 (according to the feature set) and number of outputs set to 3<br> \n",
        "2. Apply Softmax on Dense Layer outputs <br>\n",
        "3. Use SGD as Optimizer\n",
        "4. Use categorical_crossentropy as loss function "
      ]
    },
    {
      "metadata": {
        "colab_type": "code",
        "id": "Hov_UFnUciht",
        "colab": {}
      },
      "cell_type": "code",
      "source": [
        "model = Sequential()\n",
        "#Adding 3 dense layers\n",
        "model.add(Dense(1, input_dim=5,init='uniform'))\n",
        "model.add(Dense(5,init='uniform'))\n",
        "model.add(Dense(3,init='uniform'))\n",
        "\n",
        "# Compile model\n",
        "model.compile(loss='categorical_crossentropy', optimizer='sgd', metrics=['accuracy'])\n",
        "# Fit the model\n",
        "model.fit(X, y, nb_epoch=20, batch_size=10,  verbose=2)\n",
        "# evaluate the model\n",
        "\n",
        "scores = model.evaluate(X, y)\n",
        "print(\"%s: %.2f%%\" % (model.metrics_names[1], scores[1]*100))"
      ],
      "execution_count": 0,
      "outputs": []
    },
    {
      "metadata": {
        "colab_type": "text",
        "id": "T5FdzqIKcihw"
      },
      "cell_type": "markdown",
      "source": [
        "### Model Training "
      ]
    },
    {
      "metadata": {
        "colab_type": "code",
        "id": "4qLEdHPscihx",
        "colab": {}
      },
      "cell_type": "code",
      "source": [
        ""
      ],
      "execution_count": 0,
      "outputs": []
    },
    {
      "metadata": {
        "colab_type": "text",
        "id": "y-SgSSdRcih5"
      },
      "cell_type": "markdown",
      "source": [
        "### Model Prediction"
      ]
    },
    {
      "metadata": {
        "colab_type": "code",
        "id": "GBgKZkhkcih6",
        "colab": {}
      },
      "cell_type": "code",
      "source": [
        ""
      ],
      "execution_count": 0,
      "outputs": []
    },
    {
      "metadata": {
        "colab_type": "text",
        "id": "P32ASP1Vjt0a"
      },
      "cell_type": "markdown",
      "source": [
        "### Save the Model"
      ]
    },
    {
      "metadata": {
        "colab_type": "code",
        "id": "n8rd0jjAjyTR",
        "colab": {}
      },
      "cell_type": "code",
      "source": [
        "model.save('iris.h5')"
      ],
      "execution_count": 0,
      "outputs": []
    },
    {
      "metadata": {
        "colab_type": "text",
        "id": "XiipRpe7rbVh"
      },
      "cell_type": "markdown",
      "source": [
        "### Build and Train a Deep Neural network with 2 hidden layer  - Optional - For Practice\n",
        "\n",
        "Does it perform better than Linear Classifier? What could be the reason for difference in performance?"
      ]
    },
    {
      "metadata": {
        "colab_type": "code",
        "id": "v5Du3lubr4sA",
        "colab": {}
      },
      "cell_type": "code",
      "source": [
        ""
      ],
      "execution_count": 0,
      "outputs": []
    }
  ]
}