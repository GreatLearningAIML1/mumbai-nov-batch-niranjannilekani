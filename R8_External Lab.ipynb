{
  "nbformat": 4,
  "nbformat_minor": 0,
  "metadata": {
    "colab": {
      "name": "R8_External_Lab_Questions_CIFAR10_Transfer_Learning_TFIDF_Text_Classification.ipynb",
      "version": "0.3.2",
      "provenance": [],
      "collapsed_sections": []
    },
    "language_info": {
      "codemirror_mode": {
        "name": "ipython",
        "version": 3
      },
      "file_extension": ".py",
      "mimetype": "text/x-python",
      "name": "python",
      "nbconvert_exporter": "python",
      "pygments_lexer": "ipython3",
      "version": "3.6.8"
    },
    "kernelspec": {
      "name": "python3",
      "display_name": "Python 3"
    },
    "accelerator": "GPU"
  },
  "cells": [
    {
      "cell_type": "markdown",
      "metadata": {
        "colab_type": "text",
        "id": "QGIsF1ADyJ58"
      },
      "source": [
        "# Transfer Learning CIFAR10"
      ]
    },
    {
      "cell_type": "markdown",
      "metadata": {
        "colab_type": "text",
        "id": "E-n6tVFayGBe"
      },
      "source": [
        "* Train a simple convnet on the CIFAR dataset the first 5 output classes [0..4].\n",
        "* Freeze convolutional layers and fine-tune dense layers for the last 5 ouput classes [5..9].\n"
      ]
    },
    {
      "cell_type": "markdown",
      "metadata": {
        "colab_type": "text",
        "id": "Cq8ejXHJyGYq"
      },
      "source": [
        "### 1. Import CIFAR10 data and create 2 datasets with one dataset having classes from 0 to 4 and other having classes from 5 to 9 "
      ]
    },
    {
      "cell_type": "code",
      "metadata": {
        "colab_type": "code",
        "id": "uWYbxnBayFUP",
        "scrolled": true,
        "colab": {
          "base_uri": "https://localhost:8080/",
          "height": 105
        },
        "outputId": "99d5795d-9ea6-413c-dc67-ebd61c17d952"
      },
      "source": [
        "from __future__ import absolute_import, division, print_function\n",
        "import numpy as np\n",
        "import pandas as pd\n",
        "import keras\n",
        "from keras.datasets import cifar10, mnist\n",
        "from keras.models import Sequential\n",
        "from keras.layers import Dense, Activation, Dropout, Flatten, Reshape\n",
        "from keras.layers import Convolution2D, MaxPooling2D\n",
        "from keras.utils import np_utils\n",
        "import pickle\n",
        "from matplotlib import pyplot as plt\n",
        "import seaborn as sns\n",
        "plt.rcParams['figure.figsize'] = (15, 8)\n",
        "%matplotlib inline\n",
        "# Load/Prep the Data\n",
        "(x_train, y_train), (x_test, y_test) = cifar10.load_data()\n",
        "print('x_train shape Before:', x_train.shape)\n",
        "print('y_train shape Before:', y_train.reshape(50000).shape, )\n",
        "\n",
        "\n",
        "x_train_lt5 = x_train[y_train.reshape(50000) < 5]\n",
        "y_train_lt5 = y_train[y_train < 5]\n",
        "x_test_lt5 = x_test[y_test.reshape(10000) < 5]\n",
        "y_test_lt5 = y_test[y_test < 5]\n",
        "\n",
        "x_train_gte5 = x_train[y_train.reshape(50000) >= 5]\n",
        "y_train_gte5 = y_train[y_train >= 5] - 5\n",
        "x_test_gte5 = x_test[y_test.reshape(10000) >= 5]\n",
        "y_test_gte5 = y_test[y_test >= 5] - 5"
      ],
      "execution_count": 1,
      "outputs": [
        {
          "output_type": "stream",
          "text": [
            "Using TensorFlow backend.\n"
          ],
          "name": "stderr"
        },
        {
          "output_type": "stream",
          "text": [
            "Downloading data from https://www.cs.toronto.edu/~kriz/cifar-10-python.tar.gz\n",
            "170500096/170498071 [==============================] - 2s 0us/step\n",
            "x_train shape Before: (50000, 32, 32, 3)\n",
            "y_train shape Before: (50000,)\n"
          ],
          "name": "stdout"
        }
      ]
    },
    {
      "cell_type": "markdown",
      "metadata": {
        "colab_type": "text",
        "id": "xtCKmQh4yXhT"
      },
      "source": [
        "### 2. Use One-hot encoding to divide y_train and y_test into required no of output classes"
      ]
    },
    {
      "cell_type": "code",
      "metadata": {
        "colab_type": "code",
        "id": "uN5O2kJ3yYa6",
        "colab": {}
      },
      "source": [
        "y_train_lt5 = np_utils.to_categorical(y_train_lt5, 5)\n",
        "y_test_lt5 = np_utils.to_categorical(y_test_lt5, 5)"
      ],
      "execution_count": 0,
      "outputs": []
    },
    {
      "cell_type": "markdown",
      "metadata": {
        "colab_type": "text",
        "id": "cuOiKWfeybAl"
      },
      "source": [
        "### 3. Build a sequential neural network model which can classify the classes 0 to 4 of CIFAR10 dataset with at least 80% accuracy on test data"
      ]
    },
    {
      "cell_type": "code",
      "metadata": {
        "colab_type": "code",
        "id": "5HzxNbiiyoBD",
        "colab": {
          "base_uri": "https://localhost:8080/",
          "height": 4001
        },
        "outputId": "c907a0e2-0d5e-4ac4-c89f-a231d64bcdf6"
      },
      "source": [
        "batch_size = 32\n",
        "num_classes = 5\n",
        "epochs = 100\n",
        "model = Sequential()\n",
        "model.add(Convolution2D(32, (3, 3), padding='same', input_shape=x_train_lt5.shape[1:]))\n",
        "model.add(Activation('relu'))\n",
        "model.add(Convolution2D(32, (3, 3)))\n",
        "model.add(Activation('relu'))\n",
        "model.add(MaxPooling2D(pool_size=(2, 2)))\n",
        "model.add(Dropout(0.25))\n",
        "\n",
        "model.add(Convolution2D(64, (3, 3), padding='same'))\n",
        "model.add(Activation('relu'))\n",
        "model.add(Convolution2D(64, (3, 3)))\n",
        "model.add(Activation('relu'))\n",
        "model.add(MaxPooling2D(pool_size=(2, 2)))\n",
        "model.add(Dropout(0.25))\n",
        "\n",
        "model.add(Flatten())\n",
        "model.add(Dense(512))\n",
        "model.add(Activation('relu'))\n",
        "model.add(Dropout(0.5))\n",
        "model.add(Dense(num_classes))\n",
        "model.add(Activation('softmax'))\n",
        "\n",
        "# initiate RMSprop optimizer\n",
        "opt = keras.optimizers.rmsprop(lr=0.0001, decay=1e-6)\n",
        "model.compile(loss='categorical_crossentropy', optimizer=opt, metrics=['accuracy'])\n",
        "\n",
        "x_train_lt5 = x_train_lt5.astype('float32')\n",
        "x_test_lt5 = x_test_lt5.astype('float32')\n",
        "x_train_lt5 /= 255\n",
        "x_test_lt5 /= 255\n",
        "\n",
        "model.fit(x_train_lt5, y_train_lt5, batch_size=batch_size, epochs=epochs, validation_data=(x_test_lt5, y_test_lt5), shuffle=True)"
      ],
      "execution_count": 3,
      "outputs": [
        {
          "output_type": "stream",
          "text": [
            "WARNING: Logging before flag parsing goes to stderr.\n",
            "W0623 06:00:23.900361 139656415602560 deprecation_wrapper.py:119] From /usr/local/lib/python3.6/dist-packages/keras/backend/tensorflow_backend.py:74: The name tf.get_default_graph is deprecated. Please use tf.compat.v1.get_default_graph instead.\n",
            "\n",
            "W0623 06:00:23.947627 139656415602560 deprecation_wrapper.py:119] From /usr/local/lib/python3.6/dist-packages/keras/backend/tensorflow_backend.py:517: The name tf.placeholder is deprecated. Please use tf.compat.v1.placeholder instead.\n",
            "\n",
            "W0623 06:00:23.954618 139656415602560 deprecation_wrapper.py:119] From /usr/local/lib/python3.6/dist-packages/keras/backend/tensorflow_backend.py:4138: The name tf.random_uniform is deprecated. Please use tf.random.uniform instead.\n",
            "\n",
            "W0623 06:00:23.994750 139656415602560 deprecation_wrapper.py:119] From /usr/local/lib/python3.6/dist-packages/keras/backend/tensorflow_backend.py:3976: The name tf.nn.max_pool is deprecated. Please use tf.nn.max_pool2d instead.\n",
            "\n",
            "W0623 06:00:23.997526 139656415602560 deprecation_wrapper.py:119] From /usr/local/lib/python3.6/dist-packages/keras/backend/tensorflow_backend.py:133: The name tf.placeholder_with_default is deprecated. Please use tf.compat.v1.placeholder_with_default instead.\n",
            "\n",
            "W0623 06:00:24.006930 139656415602560 deprecation.py:506] From /usr/local/lib/python3.6/dist-packages/keras/backend/tensorflow_backend.py:3445: calling dropout (from tensorflow.python.ops.nn_ops) with keep_prob is deprecated and will be removed in a future version.\n",
            "Instructions for updating:\n",
            "Please use `rate` instead of `keep_prob`. Rate should be set to `rate = 1 - keep_prob`.\n",
            "W0623 06:00:24.244112 139656415602560 deprecation_wrapper.py:119] From /usr/local/lib/python3.6/dist-packages/keras/optimizers.py:790: The name tf.train.Optimizer is deprecated. Please use tf.compat.v1.train.Optimizer instead.\n",
            "\n",
            "W0623 06:00:24.252599 139656415602560 deprecation_wrapper.py:119] From /usr/local/lib/python3.6/dist-packages/keras/backend/tensorflow_backend.py:3295: The name tf.log is deprecated. Please use tf.math.log instead.\n",
            "\n",
            "W0623 06:00:24.655757 139656415602560 deprecation.py:323] From /usr/local/lib/python3.6/dist-packages/tensorflow/python/ops/math_grad.py:1250: add_dispatch_support.<locals>.wrapper (from tensorflow.python.ops.array_ops) is deprecated and will be removed in a future version.\n",
            "Instructions for updating:\n",
            "Use tf.where in 2.0, which has the same broadcast rule as np.where\n"
          ],
          "name": "stderr"
        },
        {
          "output_type": "stream",
          "text": [
            "Train on 25000 samples, validate on 5000 samples\n",
            "Epoch 1/100\n",
            "25000/25000 [==============================] - 12s 491us/step - loss: 1.2720 - acc: 0.4629 - val_loss: 1.1524 - val_acc: 0.5386\n",
            "Epoch 2/100\n",
            "25000/25000 [==============================] - 5s 220us/step - loss: 1.0364 - acc: 0.5792 - val_loss: 0.9450 - val_acc: 0.6374\n",
            "Epoch 3/100\n",
            "25000/25000 [==============================] - 5s 216us/step - loss: 0.9436 - acc: 0.6196 - val_loss: 0.9028 - val_acc: 0.6536\n",
            "Epoch 4/100\n",
            "25000/25000 [==============================] - 5s 212us/step - loss: 0.8830 - acc: 0.6491 - val_loss: 0.8479 - val_acc: 0.6592\n",
            "Epoch 5/100\n",
            "25000/25000 [==============================] - 5s 212us/step - loss: 0.8407 - acc: 0.6686 - val_loss: 0.7847 - val_acc: 0.6912\n",
            "Epoch 6/100\n",
            "25000/25000 [==============================] - 5s 212us/step - loss: 0.8023 - acc: 0.6864 - val_loss: 0.7608 - val_acc: 0.7064\n",
            "Epoch 7/100\n",
            "25000/25000 [==============================] - 5s 211us/step - loss: 0.7723 - acc: 0.7026 - val_loss: 0.8047 - val_acc: 0.6810\n",
            "Epoch 8/100\n",
            "25000/25000 [==============================] - 5s 211us/step - loss: 0.7403 - acc: 0.7155 - val_loss: 0.7209 - val_acc: 0.7146\n",
            "Epoch 9/100\n",
            "25000/25000 [==============================] - 5s 212us/step - loss: 0.7135 - acc: 0.7237 - val_loss: 0.7257 - val_acc: 0.7168\n",
            "Epoch 10/100\n",
            "25000/25000 [==============================] - 5s 212us/step - loss: 0.6898 - acc: 0.7339 - val_loss: 0.6858 - val_acc: 0.7322\n",
            "Epoch 11/100\n",
            "25000/25000 [==============================] - 5s 212us/step - loss: 0.6641 - acc: 0.7460 - val_loss: 0.6681 - val_acc: 0.7408\n",
            "Epoch 12/100\n",
            "25000/25000 [==============================] - 5s 212us/step - loss: 0.6439 - acc: 0.7560 - val_loss: 0.6316 - val_acc: 0.7608\n",
            "Epoch 13/100\n",
            "25000/25000 [==============================] - 5s 212us/step - loss: 0.6276 - acc: 0.7621 - val_loss: 0.6063 - val_acc: 0.7684\n",
            "Epoch 14/100\n",
            "25000/25000 [==============================] - 5s 211us/step - loss: 0.6079 - acc: 0.7697 - val_loss: 0.6055 - val_acc: 0.7768\n",
            "Epoch 15/100\n",
            "25000/25000 [==============================] - 5s 214us/step - loss: 0.5903 - acc: 0.7816 - val_loss: 0.6440 - val_acc: 0.7488\n",
            "Epoch 16/100\n",
            "25000/25000 [==============================] - 5s 214us/step - loss: 0.5767 - acc: 0.7830 - val_loss: 0.5805 - val_acc: 0.7850\n",
            "Epoch 17/100\n",
            "25000/25000 [==============================] - 5s 212us/step - loss: 0.5671 - acc: 0.7892 - val_loss: 0.5727 - val_acc: 0.7890\n",
            "Epoch 18/100\n",
            "25000/25000 [==============================] - 5s 212us/step - loss: 0.5531 - acc: 0.7904 - val_loss: 0.5766 - val_acc: 0.7864\n",
            "Epoch 19/100\n",
            "25000/25000 [==============================] - 5s 212us/step - loss: 0.5392 - acc: 0.7987 - val_loss: 0.6023 - val_acc: 0.7774\n",
            "Epoch 20/100\n",
            "25000/25000 [==============================] - 5s 212us/step - loss: 0.5278 - acc: 0.8027 - val_loss: 0.5828 - val_acc: 0.7828\n",
            "Epoch 21/100\n",
            "25000/25000 [==============================] - 5s 213us/step - loss: 0.5195 - acc: 0.8052 - val_loss: 0.5316 - val_acc: 0.8054\n",
            "Epoch 22/100\n",
            "25000/25000 [==============================] - 5s 212us/step - loss: 0.5066 - acc: 0.8115 - val_loss: 0.5940 - val_acc: 0.7812\n",
            "Epoch 23/100\n",
            "25000/25000 [==============================] - 5s 212us/step - loss: 0.4973 - acc: 0.8156 - val_loss: 0.5065 - val_acc: 0.8178\n",
            "Epoch 24/100\n",
            "25000/25000 [==============================] - 5s 213us/step - loss: 0.4887 - acc: 0.8200 - val_loss: 0.4964 - val_acc: 0.8208\n",
            "Epoch 25/100\n",
            "25000/25000 [==============================] - 5s 213us/step - loss: 0.4764 - acc: 0.8221 - val_loss: 0.5288 - val_acc: 0.8106\n",
            "Epoch 26/100\n",
            "25000/25000 [==============================] - 5s 213us/step - loss: 0.4727 - acc: 0.8276 - val_loss: 0.5097 - val_acc: 0.8110\n",
            "Epoch 27/100\n",
            "25000/25000 [==============================] - 5s 212us/step - loss: 0.4653 - acc: 0.8274 - val_loss: 0.5153 - val_acc: 0.8114\n",
            "Epoch 28/100\n",
            "25000/25000 [==============================] - 5s 213us/step - loss: 0.4609 - acc: 0.8310 - val_loss: 0.5109 - val_acc: 0.8112\n",
            "Epoch 29/100\n",
            "25000/25000 [==============================] - 5s 212us/step - loss: 0.4515 - acc: 0.8375 - val_loss: 0.5180 - val_acc: 0.8126\n",
            "Epoch 30/100\n",
            "25000/25000 [==============================] - 5s 214us/step - loss: 0.4431 - acc: 0.8363 - val_loss: 0.4989 - val_acc: 0.8208\n",
            "Epoch 31/100\n",
            "25000/25000 [==============================] - 5s 215us/step - loss: 0.4419 - acc: 0.8369 - val_loss: 0.5551 - val_acc: 0.7980\n",
            "Epoch 32/100\n",
            "25000/25000 [==============================] - 5s 213us/step - loss: 0.4324 - acc: 0.8406 - val_loss: 0.4884 - val_acc: 0.8328\n",
            "Epoch 33/100\n",
            "25000/25000 [==============================] - 5s 213us/step - loss: 0.4263 - acc: 0.8446 - val_loss: 0.5105 - val_acc: 0.8168\n",
            "Epoch 34/100\n",
            "25000/25000 [==============================] - 5s 213us/step - loss: 0.4231 - acc: 0.8450 - val_loss: 0.4900 - val_acc: 0.8242\n",
            "Epoch 35/100\n",
            "25000/25000 [==============================] - 5s 212us/step - loss: 0.4137 - acc: 0.8476 - val_loss: 0.5249 - val_acc: 0.8162\n",
            "Epoch 36/100\n",
            "25000/25000 [==============================] - 5s 213us/step - loss: 0.4098 - acc: 0.8506 - val_loss: 0.4741 - val_acc: 0.8318\n",
            "Epoch 37/100\n",
            "25000/25000 [==============================] - 5s 212us/step - loss: 0.4014 - acc: 0.8527 - val_loss: 0.4749 - val_acc: 0.8380\n",
            "Epoch 38/100\n",
            "25000/25000 [==============================] - 5s 213us/step - loss: 0.4031 - acc: 0.8539 - val_loss: 0.5027 - val_acc: 0.8226\n",
            "Epoch 39/100\n",
            "25000/25000 [==============================] - 5s 212us/step - loss: 0.3983 - acc: 0.8553 - val_loss: 0.4692 - val_acc: 0.8378\n",
            "Epoch 40/100\n",
            "25000/25000 [==============================] - 5s 212us/step - loss: 0.3929 - acc: 0.8557 - val_loss: 0.4889 - val_acc: 0.8322\n",
            "Epoch 41/100\n",
            "25000/25000 [==============================] - 5s 212us/step - loss: 0.3897 - acc: 0.8600 - val_loss: 0.4624 - val_acc: 0.8342\n",
            "Epoch 42/100\n",
            "25000/25000 [==============================] - 5s 212us/step - loss: 0.3849 - acc: 0.8607 - val_loss: 0.4616 - val_acc: 0.8398\n",
            "Epoch 43/100\n",
            "25000/25000 [==============================] - 5s 213us/step - loss: 0.3803 - acc: 0.8582 - val_loss: 0.4841 - val_acc: 0.8334\n",
            "Epoch 44/100\n",
            "25000/25000 [==============================] - 5s 212us/step - loss: 0.3808 - acc: 0.8621 - val_loss: 0.4772 - val_acc: 0.8380\n",
            "Epoch 45/100\n",
            "25000/25000 [==============================] - 5s 213us/step - loss: 0.3732 - acc: 0.8667 - val_loss: 0.4666 - val_acc: 0.8428\n",
            "Epoch 46/100\n",
            "25000/25000 [==============================] - 5s 213us/step - loss: 0.3695 - acc: 0.8659 - val_loss: 0.4686 - val_acc: 0.8382\n",
            "Epoch 47/100\n",
            "25000/25000 [==============================] - 5s 214us/step - loss: 0.3710 - acc: 0.8668 - val_loss: 0.4951 - val_acc: 0.8194\n",
            "Epoch 48/100\n",
            "25000/25000 [==============================] - 5s 214us/step - loss: 0.3626 - acc: 0.8686 - val_loss: 0.5484 - val_acc: 0.8046\n",
            "Epoch 49/100\n",
            "25000/25000 [==============================] - 5s 212us/step - loss: 0.3644 - acc: 0.8692 - val_loss: 0.4543 - val_acc: 0.8432\n",
            "Epoch 50/100\n",
            "25000/25000 [==============================] - 5s 212us/step - loss: 0.3607 - acc: 0.8705 - val_loss: 0.4703 - val_acc: 0.8350\n",
            "Epoch 51/100\n",
            "25000/25000 [==============================] - 5s 212us/step - loss: 0.3644 - acc: 0.8708 - val_loss: 0.4463 - val_acc: 0.8428\n",
            "Epoch 52/100\n",
            "25000/25000 [==============================] - 5s 214us/step - loss: 0.3609 - acc: 0.8687 - val_loss: 0.4516 - val_acc: 0.8404\n",
            "Epoch 53/100\n",
            "25000/25000 [==============================] - 5s 214us/step - loss: 0.3561 - acc: 0.8724 - val_loss: 0.4772 - val_acc: 0.8312\n",
            "Epoch 54/100\n",
            "25000/25000 [==============================] - 5s 215us/step - loss: 0.3525 - acc: 0.8721 - val_loss: 0.4599 - val_acc: 0.8368\n",
            "Epoch 55/100\n",
            "25000/25000 [==============================] - 5s 211us/step - loss: 0.3480 - acc: 0.8746 - val_loss: 0.4958 - val_acc: 0.8344\n",
            "Epoch 56/100\n",
            "25000/25000 [==============================] - 5s 216us/step - loss: 0.3485 - acc: 0.8751 - val_loss: 0.5157 - val_acc: 0.8166\n",
            "Epoch 57/100\n",
            "25000/25000 [==============================] - 5s 212us/step - loss: 0.3466 - acc: 0.8743 - val_loss: 0.5061 - val_acc: 0.8276\n",
            "Epoch 58/100\n",
            "25000/25000 [==============================] - 5s 212us/step - loss: 0.3464 - acc: 0.8768 - val_loss: 0.5183 - val_acc: 0.8352\n",
            "Epoch 59/100\n",
            "25000/25000 [==============================] - 5s 214us/step - loss: 0.3456 - acc: 0.8773 - val_loss: 0.5094 - val_acc: 0.8368\n",
            "Epoch 60/100\n",
            "25000/25000 [==============================] - 5s 219us/step - loss: 0.3455 - acc: 0.8767 - val_loss: 0.4873 - val_acc: 0.8276\n",
            "Epoch 61/100\n",
            "25000/25000 [==============================] - 5s 219us/step - loss: 0.3462 - acc: 0.8787 - val_loss: 0.4890 - val_acc: 0.8356\n",
            "Epoch 62/100\n",
            "25000/25000 [==============================] - 5s 212us/step - loss: 0.3421 - acc: 0.8826 - val_loss: 0.6032 - val_acc: 0.8034\n",
            "Epoch 63/100\n",
            "25000/25000 [==============================] - 5s 213us/step - loss: 0.3407 - acc: 0.8792 - val_loss: 0.4834 - val_acc: 0.8318\n",
            "Epoch 64/100\n",
            "25000/25000 [==============================] - 5s 212us/step - loss: 0.3360 - acc: 0.8785 - val_loss: 0.5231 - val_acc: 0.8208\n",
            "Epoch 65/100\n",
            "25000/25000 [==============================] - 5s 212us/step - loss: 0.3353 - acc: 0.8805 - val_loss: 0.4432 - val_acc: 0.8480\n",
            "Epoch 66/100\n",
            "25000/25000 [==============================] - 5s 211us/step - loss: 0.3349 - acc: 0.8803 - val_loss: 0.4431 - val_acc: 0.8478\n",
            "Epoch 67/100\n",
            "25000/25000 [==============================] - 5s 212us/step - loss: 0.3291 - acc: 0.8826 - val_loss: 0.4468 - val_acc: 0.8488\n",
            "Epoch 68/100\n",
            "25000/25000 [==============================] - 5s 212us/step - loss: 0.3317 - acc: 0.8830 - val_loss: 0.5548 - val_acc: 0.8128\n",
            "Epoch 69/100\n",
            "25000/25000 [==============================] - 5s 212us/step - loss: 0.3352 - acc: 0.8802 - val_loss: 0.5160 - val_acc: 0.8336\n",
            "Epoch 70/100\n",
            "25000/25000 [==============================] - 5s 212us/step - loss: 0.3339 - acc: 0.8800 - val_loss: 0.4953 - val_acc: 0.8382\n",
            "Epoch 71/100\n",
            "25000/25000 [==============================] - 5s 213us/step - loss: 0.3277 - acc: 0.8835 - val_loss: 0.4892 - val_acc: 0.8328\n",
            "Epoch 72/100\n",
            "25000/25000 [==============================] - 5s 211us/step - loss: 0.3288 - acc: 0.8840 - val_loss: 0.4840 - val_acc: 0.8434\n",
            "Epoch 73/100\n",
            "25000/25000 [==============================] - 5s 211us/step - loss: 0.3264 - acc: 0.8852 - val_loss: 0.4571 - val_acc: 0.8406\n",
            "Epoch 74/100\n",
            "25000/25000 [==============================] - 5s 213us/step - loss: 0.3329 - acc: 0.8820 - val_loss: 0.4472 - val_acc: 0.8520\n",
            "Epoch 75/100\n",
            "25000/25000 [==============================] - 5s 213us/step - loss: 0.3290 - acc: 0.8823 - val_loss: 0.4481 - val_acc: 0.8506\n",
            "Epoch 76/100\n",
            "25000/25000 [==============================] - 5s 213us/step - loss: 0.3317 - acc: 0.8849 - val_loss: 0.4945 - val_acc: 0.8216\n",
            "Epoch 77/100\n",
            "25000/25000 [==============================] - 5s 213us/step - loss: 0.3241 - acc: 0.8837 - val_loss: 0.4876 - val_acc: 0.8428\n",
            "Epoch 78/100\n",
            "25000/25000 [==============================] - 5s 212us/step - loss: 0.3257 - acc: 0.8836 - val_loss: 0.4751 - val_acc: 0.8412\n",
            "Epoch 79/100\n",
            "25000/25000 [==============================] - 5s 212us/step - loss: 0.3231 - acc: 0.8865 - val_loss: 0.4344 - val_acc: 0.8540\n",
            "Epoch 80/100\n",
            "25000/25000 [==============================] - 5s 211us/step - loss: 0.3230 - acc: 0.8851 - val_loss: 0.4831 - val_acc: 0.8410\n",
            "Epoch 81/100\n",
            "25000/25000 [==============================] - 5s 212us/step - loss: 0.3158 - acc: 0.8894 - val_loss: 0.6155 - val_acc: 0.7956\n",
            "Epoch 82/100\n",
            "25000/25000 [==============================] - 5s 211us/step - loss: 0.3215 - acc: 0.8866 - val_loss: 0.4327 - val_acc: 0.8502\n",
            "Epoch 83/100\n",
            "25000/25000 [==============================] - 5s 213us/step - loss: 0.3200 - acc: 0.8880 - val_loss: 0.4467 - val_acc: 0.8458\n",
            "Epoch 84/100\n",
            "25000/25000 [==============================] - 5s 212us/step - loss: 0.3215 - acc: 0.8872 - val_loss: 0.4571 - val_acc: 0.8500\n",
            "Epoch 85/100\n",
            "25000/25000 [==============================] - 5s 212us/step - loss: 0.3153 - acc: 0.8908 - val_loss: 0.4386 - val_acc: 0.8536\n",
            "Epoch 86/100\n",
            "25000/25000 [==============================] - 5s 212us/step - loss: 0.3154 - acc: 0.8868 - val_loss: 0.4549 - val_acc: 0.8498\n",
            "Epoch 87/100\n",
            "25000/25000 [==============================] - 5s 212us/step - loss: 0.3132 - acc: 0.8870 - val_loss: 0.4413 - val_acc: 0.8466\n",
            "Epoch 88/100\n",
            "25000/25000 [==============================] - 5s 212us/step - loss: 0.3222 - acc: 0.8848 - val_loss: 0.4739 - val_acc: 0.8360\n",
            "Epoch 89/100\n",
            "25000/25000 [==============================] - 5s 212us/step - loss: 0.3127 - acc: 0.8891 - val_loss: 0.4589 - val_acc: 0.8476\n",
            "Epoch 90/100\n",
            "25000/25000 [==============================] - 5s 212us/step - loss: 0.3120 - acc: 0.8906 - val_loss: 0.5114 - val_acc: 0.8322\n",
            "Epoch 91/100\n",
            "25000/25000 [==============================] - 5s 213us/step - loss: 0.3142 - acc: 0.8909 - val_loss: 0.4281 - val_acc: 0.8520\n",
            "Epoch 92/100\n",
            "25000/25000 [==============================] - 5s 213us/step - loss: 0.3125 - acc: 0.8910 - val_loss: 0.4302 - val_acc: 0.8528\n",
            "Epoch 93/100\n",
            "25000/25000 [==============================] - 5s 212us/step - loss: 0.3099 - acc: 0.8906 - val_loss: 0.4701 - val_acc: 0.8440\n",
            "Epoch 94/100\n",
            "25000/25000 [==============================] - 5s 211us/step - loss: 0.3191 - acc: 0.8871 - val_loss: 0.4785 - val_acc: 0.8384\n",
            "Epoch 95/100\n",
            "25000/25000 [==============================] - 5s 211us/step - loss: 0.3111 - acc: 0.8888 - val_loss: 0.4332 - val_acc: 0.8586\n",
            "Epoch 96/100\n",
            "25000/25000 [==============================] - 5s 211us/step - loss: 0.3154 - acc: 0.8927 - val_loss: 0.4507 - val_acc: 0.8470\n",
            "Epoch 97/100\n",
            "25000/25000 [==============================] - 5s 212us/step - loss: 0.3106 - acc: 0.8908 - val_loss: 0.5398 - val_acc: 0.8040\n",
            "Epoch 98/100\n",
            "25000/25000 [==============================] - 5s 210us/step - loss: 0.3107 - acc: 0.8901 - val_loss: 0.4307 - val_acc: 0.8578\n",
            "Epoch 99/100\n",
            "25000/25000 [==============================] - 5s 211us/step - loss: 0.3008 - acc: 0.8946 - val_loss: 0.4436 - val_acc: 0.8548\n",
            "Epoch 100/100\n",
            "25000/25000 [==============================] - 5s 212us/step - loss: 0.3092 - acc: 0.8922 - val_loss: 0.4299 - val_acc: 0.8508\n"
          ],
          "name": "stdout"
        },
        {
          "output_type": "execute_result",
          "data": {
            "text/plain": [
              "<keras.callbacks.History at 0x7f03f9434dd8>"
            ]
          },
          "metadata": {
            "tags": []
          },
          "execution_count": 3
        }
      ]
    },
    {
      "cell_type": "markdown",
      "metadata": {
        "colab_type": "text",
        "id": "woTfNst_ynRG"
      },
      "source": [
        "### 4. In the model which was built above (for classification of classes 0-4 in CIFAR10), make only the dense layers to be trainable and conv layers to be non-trainable"
      ]
    },
    {
      "cell_type": "code",
      "metadata": {
        "colab_type": "code",
        "id": "o_VCDB3Byb1a",
        "colab": {
          "base_uri": "https://localhost:8080/",
          "height": 656
        },
        "outputId": "c3703336-6fc2-4d3d-cb50-fc32ce14cab1"
      },
      "source": [
        "for layer in model.layers[:11]:\n",
        "    layer.trainable=False\n",
        "for layer in model.layers[11:]:\n",
        "    layer.trainable=True\n",
        "    \n",
        "#Module to print colourful statements\n",
        "from termcolor import colored\n",
        "\n",
        "#Check which layers have been frozen \n",
        "for layer in model.layers:\n",
        "  print (colored(layer.name, 'blue'))\n",
        "  print (colored(layer.trainable, 'red'))"
      ],
      "execution_count": 5,
      "outputs": [
        {
          "output_type": "stream",
          "text": [
            "\u001b[34mconv2d_1\u001b[0m\n",
            "\u001b[31mFalse\u001b[0m\n",
            "\u001b[34mactivation_1\u001b[0m\n",
            "\u001b[31mFalse\u001b[0m\n",
            "\u001b[34mconv2d_2\u001b[0m\n",
            "\u001b[31mFalse\u001b[0m\n",
            "\u001b[34mactivation_2\u001b[0m\n",
            "\u001b[31mFalse\u001b[0m\n",
            "\u001b[34mmax_pooling2d_1\u001b[0m\n",
            "\u001b[31mFalse\u001b[0m\n",
            "\u001b[34mdropout_1\u001b[0m\n",
            "\u001b[31mFalse\u001b[0m\n",
            "\u001b[34mconv2d_3\u001b[0m\n",
            "\u001b[31mFalse\u001b[0m\n",
            "\u001b[34mactivation_3\u001b[0m\n",
            "\u001b[31mFalse\u001b[0m\n",
            "\u001b[34mconv2d_4\u001b[0m\n",
            "\u001b[31mFalse\u001b[0m\n",
            "\u001b[34mactivation_4\u001b[0m\n",
            "\u001b[31mFalse\u001b[0m\n",
            "\u001b[34mmax_pooling2d_2\u001b[0m\n",
            "\u001b[31mFalse\u001b[0m\n",
            "\u001b[34mdropout_2\u001b[0m\n",
            "\u001b[31mTrue\u001b[0m\n",
            "\u001b[34mflatten_1\u001b[0m\n",
            "\u001b[31mTrue\u001b[0m\n",
            "\u001b[34mdense_1\u001b[0m\n",
            "\u001b[31mTrue\u001b[0m\n",
            "\u001b[34mactivation_5\u001b[0m\n",
            "\u001b[31mTrue\u001b[0m\n",
            "\u001b[34mdropout_3\u001b[0m\n",
            "\u001b[31mTrue\u001b[0m\n",
            "\u001b[34mdense_2\u001b[0m\n",
            "\u001b[31mTrue\u001b[0m\n",
            "\u001b[34mactivation_6\u001b[0m\n",
            "\u001b[31mTrue\u001b[0m\n"
          ],
          "name": "stdout"
        }
      ]
    },
    {
      "cell_type": "markdown",
      "metadata": {
        "colab_type": "text",
        "id": "1-uUPqWpyeyX"
      },
      "source": [
        "### 5. Utilize the the model trained on CIFAR 10 (classes 0 to 4) to classify the classes 5 to 9 of CIFAR 10  (Use Transfer Learning) <br>\n",
        "Achieve an accuracy of more than 85% on test data"
      ]
    },
    {
      "cell_type": "code",
      "metadata": {
        "colab_type": "code",
        "id": "szHjJgDvyfCt",
        "colab": {
          "base_uri": "https://localhost:8080/",
          "height": 3698
        },
        "outputId": "b9311cb3-f398-40a4-e648-ef31a7572871"
      },
      "source": [
        "x_train_gte5 = x_train_gte5.astype('float32')\n",
        "x_test_gte5 = x_test_gte5.astype('float32')\n",
        "x_train_gte5 /= 255\n",
        "x_test_gte5 /= 255\n",
        "y_train_gte5 = np_utils.to_categorical(y_train_gte5, 5)\n",
        "y_test_gte5 = np_utils.to_categorical(y_test_gte5, 5)\n",
        "model.fit(x_train_gte5, y_train_gte5, batch_size=batch_size, nb_epoch=epochs, validation_data=(x_test_gte5, y_test_gte5))"
      ],
      "execution_count": 6,
      "outputs": [
        {
          "output_type": "stream",
          "text": [
            "Train on 25000 samples, validate on 5000 samples\n",
            "Epoch 1/100\n",
            "  608/25000 [..............................] - ETA: 6s - loss: 2.2182 - acc: 0.1645"
          ],
          "name": "stdout"
        },
        {
          "output_type": "stream",
          "text": [
            "/usr/local/lib/python3.6/dist-packages/ipykernel_launcher.py:7: UserWarning: The `nb_epoch` argument in `fit` has been renamed `epochs`.\n",
            "  import sys\n",
            "/usr/local/lib/python3.6/dist-packages/keras/engine/training.py:490: UserWarning: Discrepancy between trainable weights and collected trainable weights, did you set `model.trainable` without calling `model.compile` after ?\n",
            "  'Discrepancy between trainable weights and collected trainable'\n"
          ],
          "name": "stderr"
        },
        {
          "output_type": "stream",
          "text": [
            "25000/25000 [==============================] - 5s 219us/step - loss: 1.1429 - acc: 0.5360 - val_loss: 0.8154 - val_acc: 0.6960\n",
            "Epoch 2/100\n",
            "25000/25000 [==============================] - 5s 210us/step - loss: 0.7409 - acc: 0.7292 - val_loss: 0.6853 - val_acc: 0.7396\n",
            "Epoch 3/100\n",
            "25000/25000 [==============================] - 5s 209us/step - loss: 0.6406 - acc: 0.7690 - val_loss: 0.6131 - val_acc: 0.7856\n",
            "Epoch 4/100\n",
            "25000/25000 [==============================] - 5s 210us/step - loss: 0.5770 - acc: 0.7932 - val_loss: 0.5160 - val_acc: 0.8074\n",
            "Epoch 5/100\n",
            "25000/25000 [==============================] - 5s 210us/step - loss: 0.5430 - acc: 0.8079 - val_loss: 0.6074 - val_acc: 0.7726\n",
            "Epoch 6/100\n",
            "25000/25000 [==============================] - 5s 211us/step - loss: 0.5057 - acc: 0.8215 - val_loss: 0.4231 - val_acc: 0.8512\n",
            "Epoch 7/100\n",
            "25000/25000 [==============================] - 5s 211us/step - loss: 0.4845 - acc: 0.8306 - val_loss: 0.4406 - val_acc: 0.8426\n",
            "Epoch 8/100\n",
            "25000/25000 [==============================] - 5s 212us/step - loss: 0.4635 - acc: 0.8401 - val_loss: 0.4436 - val_acc: 0.8516\n",
            "Epoch 9/100\n",
            "25000/25000 [==============================] - 5s 209us/step - loss: 0.4443 - acc: 0.8443 - val_loss: 0.4281 - val_acc: 0.8484\n",
            "Epoch 10/100\n",
            "25000/25000 [==============================] - 5s 211us/step - loss: 0.4328 - acc: 0.8486 - val_loss: 0.3943 - val_acc: 0.8642\n",
            "Epoch 11/100\n",
            "25000/25000 [==============================] - 5s 210us/step - loss: 0.4154 - acc: 0.8529 - val_loss: 0.3622 - val_acc: 0.8734\n",
            "Epoch 12/100\n",
            "25000/25000 [==============================] - 5s 211us/step - loss: 0.4042 - acc: 0.8582 - val_loss: 0.4449 - val_acc: 0.8366\n",
            "Epoch 13/100\n",
            "25000/25000 [==============================] - 5s 211us/step - loss: 0.4006 - acc: 0.8595 - val_loss: 0.3774 - val_acc: 0.8602\n",
            "Epoch 14/100\n",
            "25000/25000 [==============================] - 5s 211us/step - loss: 0.3881 - acc: 0.8641 - val_loss: 0.3347 - val_acc: 0.8824\n",
            "Epoch 15/100\n",
            "25000/25000 [==============================] - 5s 212us/step - loss: 0.3715 - acc: 0.8711 - val_loss: 0.3349 - val_acc: 0.8836\n",
            "Epoch 16/100\n",
            "25000/25000 [==============================] - 5s 213us/step - loss: 0.3722 - acc: 0.8688 - val_loss: 0.3378 - val_acc: 0.8804\n",
            "Epoch 17/100\n",
            "25000/25000 [==============================] - 5s 212us/step - loss: 0.3640 - acc: 0.8739 - val_loss: 0.3319 - val_acc: 0.8812\n",
            "Epoch 18/100\n",
            "25000/25000 [==============================] - 5s 211us/step - loss: 0.3569 - acc: 0.8744 - val_loss: 0.3201 - val_acc: 0.8922\n",
            "Epoch 19/100\n",
            "25000/25000 [==============================] - 5s 212us/step - loss: 0.3512 - acc: 0.8806 - val_loss: 0.3408 - val_acc: 0.8916\n",
            "Epoch 20/100\n",
            "25000/25000 [==============================] - 5s 211us/step - loss: 0.3382 - acc: 0.8801 - val_loss: 0.3097 - val_acc: 0.8908\n",
            "Epoch 21/100\n",
            "25000/25000 [==============================] - 5s 211us/step - loss: 0.3384 - acc: 0.8832 - val_loss: 0.3198 - val_acc: 0.8884\n",
            "Epoch 22/100\n",
            "25000/25000 [==============================] - 5s 212us/step - loss: 0.3333 - acc: 0.8847 - val_loss: 0.3258 - val_acc: 0.8934\n",
            "Epoch 23/100\n",
            "25000/25000 [==============================] - 5s 210us/step - loss: 0.3241 - acc: 0.8886 - val_loss: 0.3043 - val_acc: 0.9000\n",
            "Epoch 24/100\n",
            "25000/25000 [==============================] - 5s 211us/step - loss: 0.3299 - acc: 0.8850 - val_loss: 0.3133 - val_acc: 0.8896\n",
            "Epoch 25/100\n",
            "25000/25000 [==============================] - 5s 210us/step - loss: 0.3213 - acc: 0.8879 - val_loss: 0.2924 - val_acc: 0.9016\n",
            "Epoch 26/100\n",
            "25000/25000 [==============================] - 5s 211us/step - loss: 0.3134 - acc: 0.8898 - val_loss: 0.3854 - val_acc: 0.8702\n",
            "Epoch 27/100\n",
            "25000/25000 [==============================] - 5s 210us/step - loss: 0.3159 - acc: 0.8901 - val_loss: 0.3355 - val_acc: 0.8880\n",
            "Epoch 28/100\n",
            "25000/25000 [==============================] - 5s 210us/step - loss: 0.3082 - acc: 0.8932 - val_loss: 0.3258 - val_acc: 0.8950\n",
            "Epoch 29/100\n",
            "25000/25000 [==============================] - 5s 212us/step - loss: 0.3047 - acc: 0.8922 - val_loss: 0.3071 - val_acc: 0.8946\n",
            "Epoch 30/100\n",
            "25000/25000 [==============================] - 5s 212us/step - loss: 0.3038 - acc: 0.8944 - val_loss: 0.2884 - val_acc: 0.9032\n",
            "Epoch 31/100\n",
            "25000/25000 [==============================] - 5s 213us/step - loss: 0.2955 - acc: 0.8977 - val_loss: 0.3593 - val_acc: 0.8702\n",
            "Epoch 32/100\n",
            "25000/25000 [==============================] - 5s 213us/step - loss: 0.3000 - acc: 0.8976 - val_loss: 0.3821 - val_acc: 0.8652\n",
            "Epoch 33/100\n",
            "25000/25000 [==============================] - 5s 212us/step - loss: 0.2937 - acc: 0.9000 - val_loss: 0.3056 - val_acc: 0.8958\n",
            "Epoch 34/100\n",
            "25000/25000 [==============================] - 5s 212us/step - loss: 0.2928 - acc: 0.9000 - val_loss: 0.2843 - val_acc: 0.9068\n",
            "Epoch 35/100\n",
            "25000/25000 [==============================] - 5s 212us/step - loss: 0.2894 - acc: 0.8991 - val_loss: 0.4090 - val_acc: 0.8686\n",
            "Epoch 36/100\n",
            "25000/25000 [==============================] - 5s 210us/step - loss: 0.2827 - acc: 0.9039 - val_loss: 0.3031 - val_acc: 0.8994\n",
            "Epoch 37/100\n",
            "25000/25000 [==============================] - 5s 211us/step - loss: 0.2820 - acc: 0.9031 - val_loss: 0.3107 - val_acc: 0.9016\n",
            "Epoch 38/100\n",
            "25000/25000 [==============================] - 5s 212us/step - loss: 0.2798 - acc: 0.9046 - val_loss: 0.3345 - val_acc: 0.8880\n",
            "Epoch 39/100\n",
            "25000/25000 [==============================] - 5s 212us/step - loss: 0.2756 - acc: 0.9059 - val_loss: 0.3712 - val_acc: 0.8716\n",
            "Epoch 40/100\n",
            "25000/25000 [==============================] - 5s 212us/step - loss: 0.2769 - acc: 0.9042 - val_loss: 0.3880 - val_acc: 0.8622\n",
            "Epoch 41/100\n",
            "25000/25000 [==============================] - 5s 212us/step - loss: 0.2725 - acc: 0.9047 - val_loss: 0.3569 - val_acc: 0.8820\n",
            "Epoch 42/100\n",
            "25000/25000 [==============================] - 5s 213us/step - loss: 0.2705 - acc: 0.9056 - val_loss: 0.3362 - val_acc: 0.8890\n",
            "Epoch 43/100\n",
            "25000/25000 [==============================] - 5s 212us/step - loss: 0.2695 - acc: 0.9099 - val_loss: 0.3042 - val_acc: 0.9110\n",
            "Epoch 44/100\n",
            "25000/25000 [==============================] - 5s 213us/step - loss: 0.2677 - acc: 0.9073 - val_loss: 0.3929 - val_acc: 0.8688\n",
            "Epoch 45/100\n",
            "25000/25000 [==============================] - 5s 212us/step - loss: 0.2652 - acc: 0.9092 - val_loss: 0.3045 - val_acc: 0.8968\n",
            "Epoch 46/100\n",
            "25000/25000 [==============================] - 5s 215us/step - loss: 0.2635 - acc: 0.9109 - val_loss: 0.2772 - val_acc: 0.9154\n",
            "Epoch 47/100\n",
            "25000/25000 [==============================] - 5s 217us/step - loss: 0.2669 - acc: 0.9094 - val_loss: 0.3400 - val_acc: 0.8938\n",
            "Epoch 48/100\n",
            "25000/25000 [==============================] - 5s 212us/step - loss: 0.2651 - acc: 0.9074 - val_loss: 0.2727 - val_acc: 0.9124\n",
            "Epoch 49/100\n",
            "25000/25000 [==============================] - 5s 211us/step - loss: 0.2586 - acc: 0.9120 - val_loss: 0.2958 - val_acc: 0.9056\n",
            "Epoch 50/100\n",
            "25000/25000 [==============================] - 5s 211us/step - loss: 0.2581 - acc: 0.9114 - val_loss: 0.3617 - val_acc: 0.8840\n",
            "Epoch 51/100\n",
            "25000/25000 [==============================] - 5s 212us/step - loss: 0.2610 - acc: 0.9094 - val_loss: 0.3225 - val_acc: 0.8942\n",
            "Epoch 52/100\n",
            "25000/25000 [==============================] - 5s 212us/step - loss: 0.2552 - acc: 0.9127 - val_loss: 0.2995 - val_acc: 0.9098\n",
            "Epoch 53/100\n",
            "25000/25000 [==============================] - 5s 211us/step - loss: 0.2616 - acc: 0.9100 - val_loss: 0.3302 - val_acc: 0.8998\n",
            "Epoch 54/100\n",
            "25000/25000 [==============================] - 5s 218us/step - loss: 0.2589 - acc: 0.9121 - val_loss: 0.2631 - val_acc: 0.9130\n",
            "Epoch 55/100\n",
            "25000/25000 [==============================] - 5s 218us/step - loss: 0.2563 - acc: 0.9112 - val_loss: 0.3081 - val_acc: 0.9004\n",
            "Epoch 56/100\n",
            "25000/25000 [==============================] - 5s 212us/step - loss: 0.2502 - acc: 0.9147 - val_loss: 0.2910 - val_acc: 0.9052\n",
            "Epoch 57/100\n",
            "25000/25000 [==============================] - 5s 212us/step - loss: 0.2497 - acc: 0.9153 - val_loss: 0.2628 - val_acc: 0.9192\n",
            "Epoch 58/100\n",
            "25000/25000 [==============================] - 5s 212us/step - loss: 0.2516 - acc: 0.9148 - val_loss: 0.2845 - val_acc: 0.9074\n",
            "Epoch 59/100\n",
            "25000/25000 [==============================] - 5s 211us/step - loss: 0.2463 - acc: 0.9169 - val_loss: 0.2818 - val_acc: 0.9052\n",
            "Epoch 60/100\n",
            "25000/25000 [==============================] - 5s 211us/step - loss: 0.2494 - acc: 0.9169 - val_loss: 0.3060 - val_acc: 0.8988\n",
            "Epoch 61/100\n",
            "25000/25000 [==============================] - 5s 213us/step - loss: 0.2527 - acc: 0.9139 - val_loss: 0.2796 - val_acc: 0.9060\n",
            "Epoch 62/100\n",
            "25000/25000 [==============================] - 5s 214us/step - loss: 0.2487 - acc: 0.9162 - val_loss: 0.2957 - val_acc: 0.9036\n",
            "Epoch 63/100\n",
            "25000/25000 [==============================] - 5s 213us/step - loss: 0.2435 - acc: 0.9171 - val_loss: 0.2905 - val_acc: 0.9122\n",
            "Epoch 64/100\n",
            "25000/25000 [==============================] - 5s 213us/step - loss: 0.2447 - acc: 0.9186 - val_loss: 0.2899 - val_acc: 0.9070\n",
            "Epoch 65/100\n",
            "25000/25000 [==============================] - 5s 212us/step - loss: 0.2404 - acc: 0.9186 - val_loss: 0.2903 - val_acc: 0.9034\n",
            "Epoch 66/100\n",
            "25000/25000 [==============================] - 5s 213us/step - loss: 0.2402 - acc: 0.9185 - val_loss: 0.2938 - val_acc: 0.9082\n",
            "Epoch 67/100\n",
            "25000/25000 [==============================] - 5s 212us/step - loss: 0.2404 - acc: 0.9184 - val_loss: 0.2781 - val_acc: 0.9058\n",
            "Epoch 68/100\n",
            "25000/25000 [==============================] - 5s 212us/step - loss: 0.2469 - acc: 0.9170 - val_loss: 0.2848 - val_acc: 0.9066\n",
            "Epoch 69/100\n",
            "25000/25000 [==============================] - 5s 213us/step - loss: 0.2384 - acc: 0.9193 - val_loss: 0.2713 - val_acc: 0.9118\n",
            "Epoch 70/100\n",
            "25000/25000 [==============================] - 5s 212us/step - loss: 0.2412 - acc: 0.9194 - val_loss: 0.2627 - val_acc: 0.9214\n",
            "Epoch 71/100\n",
            "25000/25000 [==============================] - 5s 213us/step - loss: 0.2421 - acc: 0.9199 - val_loss: 0.2877 - val_acc: 0.9032\n",
            "Epoch 72/100\n",
            "25000/25000 [==============================] - 5s 212us/step - loss: 0.2361 - acc: 0.9204 - val_loss: 0.2871 - val_acc: 0.9058\n",
            "Epoch 73/100\n",
            "25000/25000 [==============================] - 5s 212us/step - loss: 0.2359 - acc: 0.9195 - val_loss: 0.3324 - val_acc: 0.8934\n",
            "Epoch 74/100\n",
            "25000/25000 [==============================] - 5s 211us/step - loss: 0.2353 - acc: 0.9190 - val_loss: 0.2946 - val_acc: 0.9094\n",
            "Epoch 75/100\n",
            "25000/25000 [==============================] - 5s 212us/step - loss: 0.2343 - acc: 0.9197 - val_loss: 0.3300 - val_acc: 0.8966\n",
            "Epoch 76/100\n",
            "25000/25000 [==============================] - 5s 215us/step - loss: 0.2377 - acc: 0.9208 - val_loss: 0.3167 - val_acc: 0.8934\n",
            "Epoch 77/100\n",
            "25000/25000 [==============================] - 5s 214us/step - loss: 0.2381 - acc: 0.9204 - val_loss: 0.3144 - val_acc: 0.9054\n",
            "Epoch 78/100\n",
            "25000/25000 [==============================] - 5s 213us/step - loss: 0.2341 - acc: 0.9205 - val_loss: 0.2695 - val_acc: 0.9136\n",
            "Epoch 79/100\n",
            "25000/25000 [==============================] - 5s 212us/step - loss: 0.2343 - acc: 0.9216 - val_loss: 0.3281 - val_acc: 0.8934\n",
            "Epoch 80/100\n",
            "25000/25000 [==============================] - 5s 211us/step - loss: 0.2372 - acc: 0.9190 - val_loss: 0.3976 - val_acc: 0.8820\n",
            "Epoch 81/100\n",
            "25000/25000 [==============================] - 5s 212us/step - loss: 0.2340 - acc: 0.9190 - val_loss: 0.3513 - val_acc: 0.8872\n",
            "Epoch 82/100\n",
            "25000/25000 [==============================] - 5s 211us/step - loss: 0.2325 - acc: 0.9203 - val_loss: 0.2672 - val_acc: 0.9150\n",
            "Epoch 83/100\n",
            "25000/25000 [==============================] - 5s 212us/step - loss: 0.2380 - acc: 0.9205 - val_loss: 0.3062 - val_acc: 0.9018\n",
            "Epoch 84/100\n",
            "25000/25000 [==============================] - 5s 213us/step - loss: 0.2318 - acc: 0.9206 - val_loss: 0.2624 - val_acc: 0.9154\n",
            "Epoch 85/100\n",
            "25000/25000 [==============================] - 5s 212us/step - loss: 0.2317 - acc: 0.9204 - val_loss: 0.3073 - val_acc: 0.8934\n",
            "Epoch 86/100\n",
            "25000/25000 [==============================] - 5s 213us/step - loss: 0.2311 - acc: 0.9241 - val_loss: 0.2887 - val_acc: 0.9078\n",
            "Epoch 87/100\n",
            "25000/25000 [==============================] - 5s 213us/step - loss: 0.2287 - acc: 0.9226 - val_loss: 0.2816 - val_acc: 0.9112\n",
            "Epoch 88/100\n",
            "25000/25000 [==============================] - 5s 211us/step - loss: 0.2308 - acc: 0.9226 - val_loss: 0.2875 - val_acc: 0.9096\n",
            "Epoch 89/100\n",
            "25000/25000 [==============================] - 5s 214us/step - loss: 0.2296 - acc: 0.9235 - val_loss: 0.2686 - val_acc: 0.9116\n",
            "Epoch 90/100\n",
            "25000/25000 [==============================] - 5s 211us/step - loss: 0.2377 - acc: 0.9206 - val_loss: 0.2666 - val_acc: 0.9150\n",
            "Epoch 91/100\n",
            "25000/25000 [==============================] - 5s 214us/step - loss: 0.2293 - acc: 0.9231 - val_loss: 0.2795 - val_acc: 0.9116\n",
            "Epoch 92/100\n",
            "25000/25000 [==============================] - 5s 214us/step - loss: 0.2361 - acc: 0.9196 - val_loss: 0.2973 - val_acc: 0.9066\n",
            "Epoch 93/100\n",
            "25000/25000 [==============================] - 5s 212us/step - loss: 0.2355 - acc: 0.9207 - val_loss: 0.2985 - val_acc: 0.9048\n",
            "Epoch 94/100\n",
            "25000/25000 [==============================] - 5s 212us/step - loss: 0.2340 - acc: 0.9214 - val_loss: 0.3097 - val_acc: 0.8972\n",
            "Epoch 95/100\n",
            "25000/25000 [==============================] - 5s 212us/step - loss: 0.2331 - acc: 0.9204 - val_loss: 0.3391 - val_acc: 0.8966\n",
            "Epoch 96/100\n",
            "25000/25000 [==============================] - 5s 212us/step - loss: 0.2305 - acc: 0.9246 - val_loss: 0.2801 - val_acc: 0.9090\n",
            "Epoch 97/100\n",
            "25000/25000 [==============================] - 5s 212us/step - loss: 0.2343 - acc: 0.9216 - val_loss: 0.2898 - val_acc: 0.9082\n",
            "Epoch 98/100\n",
            "25000/25000 [==============================] - 5s 213us/step - loss: 0.2306 - acc: 0.9228 - val_loss: 0.2824 - val_acc: 0.9120\n",
            "Epoch 99/100\n",
            "25000/25000 [==============================] - 5s 213us/step - loss: 0.2319 - acc: 0.9222 - val_loss: 0.2909 - val_acc: 0.9044\n",
            "Epoch 100/100\n",
            "25000/25000 [==============================] - 5s 212us/step - loss: 0.2316 - acc: 0.9237 - val_loss: 0.3237 - val_acc: 0.9044\n"
          ],
          "name": "stdout"
        },
        {
          "output_type": "execute_result",
          "data": {
            "text/plain": [
              "<keras.callbacks.History at 0x7f03f947b320>"
            ]
          },
          "metadata": {
            "tags": []
          },
          "execution_count": 6
        }
      ]
    },
    {
      "cell_type": "markdown",
      "metadata": {
        "colab_type": "text",
        "id": "0zDuRecXzEtr"
      },
      "source": [
        "# Text classification using TF-IDF"
      ]
    },
    {
      "cell_type": "markdown",
      "metadata": {
        "colab_type": "text",
        "id": "xMPlEJhHzb6P"
      },
      "source": [
        "### 6. Load the dataset from sklearn.datasets"
      ]
    },
    {
      "cell_type": "code",
      "metadata": {
        "colab_type": "code",
        "id": "Fe-B59u3zHNb",
        "colab": {}
      },
      "source": [
        "from sklearn.datasets import fetch_20newsgroups"
      ],
      "execution_count": 0,
      "outputs": []
    },
    {
      "cell_type": "code",
      "metadata": {
        "colab_type": "code",
        "id": "PRrMemVQzbHU",
        "colab": {}
      },
      "source": [
        "categories = ['alt.atheism', 'soc.religion.christian', 'comp.graphics', 'sci.med']"
      ],
      "execution_count": 0,
      "outputs": []
    },
    {
      "cell_type": "markdown",
      "metadata": {
        "colab_type": "text",
        "id": "-sZX0UbJzmg5"
      },
      "source": [
        "### 7. Training data"
      ]
    },
    {
      "cell_type": "code",
      "metadata": {
        "colab_type": "code",
        "id": "CITr_5aXziJ2",
        "colab": {}
      },
      "source": [
        "twenty_train = fetch_20newsgroups(subset='train', categories=categories, shuffle=True, random_state=42)"
      ],
      "execution_count": 0,
      "outputs": []
    },
    {
      "cell_type": "markdown",
      "metadata": {
        "colab_type": "text",
        "id": "xcESc5QXzr6p"
      },
      "source": [
        "### 8. Test data"
      ]
    },
    {
      "cell_type": "code",
      "metadata": {
        "colab_type": "code",
        "id": "ysInblUMzpvl",
        "colab": {}
      },
      "source": [
        "twenty_test = fetch_20newsgroups(subset='test', categories=categories, shuffle=True, random_state=42)"
      ],
      "execution_count": 0,
      "outputs": []
    },
    {
      "cell_type": "markdown",
      "metadata": {
        "colab_type": "text",
        "id": "DriL2yZ50DQq"
      },
      "source": [
        "###  a.  You can access the values for the target variable using .target attribute \n",
        "###  b. You can access the name of the class in the target variable with .target_names\n"
      ]
    },
    {
      "cell_type": "code",
      "metadata": {
        "colab_type": "code",
        "id": "vlUuai99z1hX",
        "colab": {
          "base_uri": "https://localhost:8080/",
          "height": 34
        },
        "outputId": "3c7a6db6-09c3-4be1-f760-cbf6999ba282"
      },
      "source": [
        "twenty_train.target"
      ],
      "execution_count": 18,
      "outputs": [
        {
          "output_type": "execute_result",
          "data": {
            "text/plain": [
              "array([1, 1, 3, ..., 2, 2, 2])"
            ]
          },
          "metadata": {
            "tags": []
          },
          "execution_count": 18
        }
      ]
    },
    {
      "cell_type": "code",
      "metadata": {
        "colab_type": "code",
        "id": "VEKzaDfSz5E-",
        "colab": {
          "base_uri": "https://localhost:8080/",
          "height": 34
        },
        "outputId": "036ab042-0f0a-4e04-b946-1a4cf48895b9"
      },
      "source": [
        "twenty_train.target_names"
      ],
      "execution_count": 19,
      "outputs": [
        {
          "output_type": "execute_result",
          "data": {
            "text/plain": [
              "['alt.atheism', 'comp.graphics', 'sci.med', 'soc.religion.christian']"
            ]
          },
          "metadata": {
            "tags": []
          },
          "execution_count": 19
        }
      ]
    },
    {
      "cell_type": "code",
      "metadata": {
        "colab_type": "code",
        "id": "clBMKHzC0_N1",
        "colab": {
          "base_uri": "https://localhost:8080/",
          "height": 125
        },
        "outputId": "405f5632-1c93-4cc6-b38f-03d44c6616d6"
      },
      "source": [
        "twenty_train.data[0:5]"
      ],
      "execution_count": 20,
      "outputs": [
        {
          "output_type": "execute_result",
          "data": {
            "text/plain": [
              "['From: sd345@city.ac.uk (Michael Collier)\\nSubject: Converting images to HP LaserJet III?\\nNntp-Posting-Host: hampton\\nOrganization: The City University\\nLines: 14\\n\\nDoes anyone know of a good way (standard PC application/PD utility) to\\nconvert tif/img/tga files into LaserJet III format.  We would also like to\\ndo the same, converting to HPGL (HP plotter) files.\\n\\nPlease email any response.\\n\\nIs this the correct group?\\n\\nThanks in advance.  Michael.\\n-- \\nMichael Collier (Programmer)                 The Computer Unit,\\nEmail: M.P.Collier@uk.ac.city                The City University,\\nTel: 071 477-8000 x3769                      London,\\nFax: 071 477-8565                            EC1V 0HB.\\n',\n",
              " \"From: ani@ms.uky.edu (Aniruddha B. Deglurkar)\\nSubject: help: Splitting a trimming region along a mesh \\nOrganization: University Of Kentucky, Dept. of Math Sciences\\nLines: 28\\n\\n\\n\\n\\tHi,\\n\\n\\tI have a problem, I hope some of the 'gurus' can help me solve.\\n\\n\\tBackground of the problem:\\n\\tI have a rectangular mesh in the uv domain, i.e  the mesh is a \\n\\tmapping of a 3d Bezier patch into 2d. The area in this domain\\n\\twhich is inside a trimming loop had to be rendered. The trimming\\n\\tloop is a set of 2d Bezier curve segments.\\n\\tFor the sake of notation: the mesh is made up of cells.\\n\\n\\tMy problem is this :\\n\\tThe trimming area has to be split up into individual smaller\\n\\tcells bounded by the trimming curve segments. If a cell\\n\\tis wholly inside the area...then it is output as a whole ,\\n\\telse it is trivially rejected. \\n\\n\\tDoes any body know how thiss can be done, or is there any algo. \\n\\tsomewhere for doing this.\\n\\n\\tAny help would be appreciated.\\n\\n\\tThanks, \\n\\tAni.\\n-- \\nTo get irritated is human, to stay cool, divine.\\n\",\n",
              " \"From: djohnson@cs.ucsd.edu (Darin Johnson)\\nSubject: Re: harrassed at work, could use some prayers\\nOrganization: =CSE Dept., U.C. San Diego\\nLines: 63\\n\\n(Well, I'll email also, but this may apply to other people, so\\nI'll post also.)\\n\\n>I've been working at this company for eight years in various\\n>engineering jobs.  I'm female.  Yesterday I counted and realized that\\n>on seven different occasions I've been sexually harrassed at this\\n>company.\\n\\n>I dreaded coming back to work today.  What if my boss comes in to ask\\n>me some kind of question...\\n\\nYour boss should be the person bring these problems to.  If he/she\\ndoes not seem to take any action, keep going up higher and higher.\\nSexual harrassment does not need to be tolerated, and it can be an\\nenormous emotional support to discuss this with someone and know that\\nthey are trying to do something about it.  If you feel you can not\\ndiscuss this with your boss, perhaps your company has a personnel\\ndepartment that can work for you while preserving your privacy.  Most\\ncompanies will want to deal with this problem because constant anxiety\\ndoes seriously affect how effectively employees do their jobs.\\n\\nIt is unclear from your letter if you have done this or not.  It is\\nnot inconceivable that management remains ignorant of employee\\nproblems/strife even after eight years (it's a miracle if they do\\nnotice).  Perhaps your manager did not bring to the attention of\\nhigher ups?  If the company indeed does seem to want to ignore the\\nentire problem, there may be a state agency willing to fight with\\nyou.  (check with a lawyer, a women's resource center, etc to find out)\\n\\nYou may also want to discuss this with your paster, priest, husband,\\netc.  That is, someone you know will not be judgemental and that is\\nsupportive, comforting, etc.  This will bring a lot of healing.\\n\\n>So I returned at 11:25, only to find that ever single\\n>person had already left for lunch.  They left at 11:15 or so.  No one\\n>could be bothered to call me at the other building, even though my\\n>number was posted.\\n\\nThis happens to a lot of people.  Honest.  I believe it may seem\\nto be due to gross insensitivity because of the feelings you are\\ngoing through.  People in offices tend to be more insensitive while\\nworking than they normally are (maybe it's the hustle or stress or...)\\nI've had this happen to me a lot, often because they didn't realize\\nmy car was broken, etc.  Then they will come back and wonder why I\\ndidn't want to go (this would tend to make me stop being angry at\\nbeing ignored and make me laugh).  Once, we went off without our\\nboss, who was paying for the lunch :-)\\n\\n>For this\\n>reason I hope good Mr. Moderator allows me this latest indulgence.\\n\\nWell, if you can't turn to the computer for support, what would\\nwe do?  (signs of the computer age :-)\\n\\nIn closing, please don't let the hateful actions of a single person\\nharm you.  They are doing it because they are still the playground\\nbully and enjoy seeing the hurt they cause.  And you should not\\naccept the opinions of an imbecile that you are worthless - much\\nwiser people hold you in great esteem.\\n-- \\nDarin Johnson\\ndjohnson@ucsd.edu\\n  - Luxury!  In MY day, we had to make do with 5 bytes of swap...\\n\",\n",
              " 'From: s0612596@let.rug.nl (M.M. Zwart)\\nSubject: catholic church poland\\nOrganization: Faculteit der Letteren, Rijksuniversiteit Groningen, NL\\nLines: 10\\n\\nHello,\\n\\nI\\'m writing a paper on the role of the catholic church in Poland after 1989. \\nCan anyone tell me more about this, or fill me in on recent books/articles(\\nin english, german or french). Most important for me is the role of the \\nchurch concerning the abortion-law, religious education at schools,\\nbirth-control and the relation church-state(government). Thanx,\\n\\n                                                 Masja,\\n\"M.M.Zwart\"<s0612596@let.rug.nl>\\n',\n",
              " 'From: stanly@grok11.columbiasc.ncr.com (stanly)\\nSubject: Re: Elder Brother\\nOrganization: NCR Corp., Columbia SC\\nLines: 15\\n\\nIn article <Apr.8.00.57.41.1993.28246@athos.rutgers.edu> REXLEX@fnal.gov writes:\\n>In article <Apr.7.01.56.56.1993.22824@athos.rutgers.edu> shrum@hpfcso.fc.hp.com\\n>Matt. 22:9-14 \\'Go therefore to the main highways, and as many as you find\\n>there, invite to the wedding feast.\\'...\\n\\n>hmmmmmm.  Sounds like your theology and Christ\\'s are at odds. Which one am I \\n>to believe?\\n\\nIn this parable, Jesus tells the parable of the wedding feast. \"The kingdom\\nof heaven is like unto a certain king which made a marriage for his son\".\\nSo the wedding clothes were customary,  and \"given\" to those who \"chose\" to\\nattend.  This man \"refused\" to wear the clothes.  The wedding clothes are\\nequalivant to the \"clothes of righteousness\".  When Jesus died for our sins,\\nthose \"clothes\" were then provided.  Like that man, it is our decision to\\nput the clothes on.\\n']"
            ]
          },
          "metadata": {
            "tags": []
          },
          "execution_count": 20
        }
      ]
    },
    {
      "cell_type": "code",
      "metadata": {
        "id": "5B6SCdxwYG-K",
        "colab_type": "code",
        "colab": {
          "base_uri": "https://localhost:8080/",
          "height": 34
        },
        "outputId": "59439332-1e37-4eaf-886e-3a370f49e4e1"
      },
      "source": [
        "type(twenty_train)"
      ],
      "execution_count": 23,
      "outputs": [
        {
          "output_type": "execute_result",
          "data": {
            "text/plain": [
              "sklearn.utils.Bunch"
            ]
          },
          "metadata": {
            "tags": []
          },
          "execution_count": 23
        }
      ]
    },
    {
      "cell_type": "markdown",
      "metadata": {
        "colab_type": "text",
        "id": "hTz4EaN_1WGc"
      },
      "source": [
        "### 9.  Now with dependent and independent data available for both train and test datasets, using TfidfVectorizer fit and transform the training data and test data and get the tfidf features for both"
      ]
    },
    {
      "cell_type": "code",
      "metadata": {
        "colab_type": "code",
        "id": "H5G477f81C0Z",
        "colab": {
          "base_uri": "https://localhost:8080/",
          "height": 34
        },
        "outputId": "6c7ba9a3-438a-41c2-ef2d-74a6c0453e61"
      },
      "source": [
        "from sklearn.feature_extraction.text import CountVectorizer, TfidfVectorizer\n",
        "vect = TfidfVectorizer(stop_words='english')\n",
        "dtm = vect.fit_transform(twenty_train.data)\n",
        "dtm_test = vect.transform(twenty_test.data)\n",
        "features = vect.get_feature_names()\n",
        "print(dtm.shape,dtm_test.shape)"
      ],
      "execution_count": 33,
      "outputs": [
        {
          "output_type": "stream",
          "text": [
            "(2257, 35482) (1502, 35482)\n"
          ],
          "name": "stdout"
        }
      ]
    },
    {
      "cell_type": "markdown",
      "metadata": {
        "colab_type": "text",
        "id": "tp_fDINJ1t4L"
      },
      "source": [
        "### 10. Use logisticRegression with tfidf features as input and targets as output and train the model and report the train and test accuracy score"
      ]
    },
    {
      "cell_type": "code",
      "metadata": {
        "colab_type": "code",
        "id": "THlN2b5d1yQp",
        "colab": {
          "base_uri": "https://localhost:8080/",
          "height": 143
        },
        "outputId": "078721d8-54c8-4bb3-9c15-0c180ed784f3"
      },
      "source": [
        "from sklearn.linear_model import LogisticRegression\n",
        "from sklearn import metrics\n",
        "logreg = LogisticRegression(C=1e9)\n",
        "logreg.fit(dtm, twenty_train.target)\n",
        "y_pred_class = logreg.predict(dtm_test)\n",
        "print(metrics.accuracy_score(twenty_train.target, logreg.predict(dtm)))\n",
        "print(metrics.accuracy_score(twenty_test.target, y_pred_class))"
      ],
      "execution_count": 49,
      "outputs": [
        {
          "output_type": "stream",
          "text": [
            "/usr/local/lib/python3.6/dist-packages/sklearn/linear_model/logistic.py:432: FutureWarning: Default solver will be changed to 'lbfgs' in 0.22. Specify a solver to silence this warning.\n",
            "  FutureWarning)\n",
            "/usr/local/lib/python3.6/dist-packages/sklearn/linear_model/logistic.py:469: FutureWarning: Default multi_class will be changed to 'auto' in 0.22. Specify the multi_class option to silence this warning.\n",
            "  \"this warning.\", FutureWarning)\n"
          ],
          "name": "stderr"
        },
        {
          "output_type": "stream",
          "text": [
            "1.0\n",
            "0.9280958721704394\n"
          ],
          "name": "stdout"
        }
      ]
    }
  ]
}